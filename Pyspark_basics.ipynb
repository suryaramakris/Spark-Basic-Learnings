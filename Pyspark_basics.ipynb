{
  "nbformat": 4,
  "nbformat_minor": 0,
  "metadata": {
    "colab": {
      "provenance": [],
      "collapsed_sections": [
        "zo6kHry8c-Fo"
      ]
    },
    "kernelspec": {
      "name": "python3",
      "display_name": "Python 3"
    },
    "language_info": {
      "name": "python"
    }
  },
  "cells": [
    {
      "cell_type": "markdown",
      "source": [
        "# <center>Learnings Of Spark Framework</center>\n"
      ],
      "metadata": {
        "id": "Y4QqjJ0uY7Xh"
      }
    },
    {
      "cell_type": "code",
      "execution_count": null,
      "metadata": {
        "id": "fZp_yeZeXnbW"
      },
      "outputs": [],
      "source": [
        "#Install Java JDK of version greater than 8\n",
        "#Get the spark zip file from apache organiztion \n",
        "#Unzipping the file after getting it\n",
        "#From that Install findspark \n",
        "!apt-get install openjdk-8-jdk-headless -qq > /dev/null\n",
        "!wget -q https://archive.apache.org/dist/spark/spark-3.0.1/spark-3.0.1-bin-hadoop2.7.tgz\n",
        "!tar xf spark-3.0.1-bin-hadoop2.7.tgz\n",
        "!pip install -q findspark"
      ]
    },
    {
      "cell_type": "code",
      "source": [
        "#Creating an environment for Java and spark to work with it\n",
        "import os\n",
        "import sys\n",
        "os.environ[\"JAVA_HOME\"] = \"/usr/lib/jvm/java-8-openjdk-amd64\"\n",
        "os.environ[\"SPARK_HOME\"] = \"/content//spark-3.0.1-bin-hadoop2.7\""
      ],
      "metadata": {
        "id": "EuCdLaTNX8KI"
      },
      "execution_count": null,
      "outputs": []
    },
    {
      "cell_type": "code",
      "source": [
        "#Initalizing the findspark \n",
        "import findspark\n",
        "findspark.init()\n",
        "\n",
        "#Creating an entry point for spark using the spark session\n",
        "from pyspark.sql import SparkSession\n",
        "spark = SparkSession.builder.master(\"local[*]\").getOrCreate()"
      ],
      "metadata": {
        "id": "jzZvWUcLYjsP"
      },
      "execution_count": null,
      "outputs": []
    },
    {
      "cell_type": "code",
      "source": [
        "#Creating a Dataframe using the Range Function\n",
        "rdf = spark.range(50).toDF(\"Number\")"
      ],
      "metadata": {
        "id": "NuKEVYPOY1FA"
      },
      "execution_count": null,
      "outputs": []
    },
    {
      "cell_type": "code",
      "source": [
        "#to view the dataframe and cheking the type of dataframe created\n",
        "rdf.show(5)\n",
        "type(rdf)"
      ],
      "metadata": {
        "colab": {
          "base_uri": "https://localhost:8080/"
        },
        "id": "lrUsMa0cZ2qe",
        "outputId": "200a10d7-2c4e-497a-e477-f0f1014cb5c7"
      },
      "execution_count": null,
      "outputs": [
        {
          "output_type": "stream",
          "name": "stdout",
          "text": [
            "+------+\n",
            "|Number|\n",
            "+------+\n",
            "|     0|\n",
            "|     1|\n",
            "|     2|\n",
            "|     3|\n",
            "|     4|\n",
            "+------+\n",
            "only showing top 5 rows\n",
            "\n"
          ]
        },
        {
          "output_type": "execute_result",
          "data": {
            "text/plain": [
              "pyspark.sql.dataframe.DataFrame"
            ]
          },
          "metadata": {},
          "execution_count": 5
        }
      ]
    },
    {
      "cell_type": "code",
      "source": [
        "#to see the number of partions/ splits made\n",
        "rdf.rdd.getNumPartitions()"
      ],
      "metadata": {
        "colab": {
          "base_uri": "https://localhost:8080/"
        },
        "id": "kOZ9XFlLZ5wv",
        "outputId": "42836241-6247-4038-da95-661069e6ce8b"
      },
      "execution_count": null,
      "outputs": [
        {
          "output_type": "execute_result",
          "data": {
            "text/plain": [
              "2"
            ]
          },
          "metadata": {},
          "execution_count": 6
        }
      ]
    },
    {
      "cell_type": "code",
      "source": [
        "#Creating a Dataframe with multiple columns\n",
        "teams = spark.createDataFrame([[1,'Amith','HR',560081],\n",
        "                           [2,'Soorya','DataScientist',560085],\n",
        "                           [3,'Vishwas','DataScientist',560082],\n",
        "                           [4,'Manoj','DataScientist',560084],\n",
        "                           [5,'Krishna','Faculty',560085],\n",
        "                           [6,'Yashas','DataScientist',560081],\n",
        "                           [7,'Harsha','DataScientist',560082],\n",
        "                           [8,'Girish','HR',560083],\n",
        "                           [9,'Chandan','Manager',560083],\n",
        "                          [10,'Punith','Manager',560081]],['id','Name','Position','State'])"
      ],
      "metadata": {
        "id": "1XMaaa7RZ_Bt"
      },
      "execution_count": null,
      "outputs": []
    },
    {
      "cell_type": "code",
      "source": [
        "##cheking the type of dataframe created and to view the dataframe\n",
        "print(type(teams))\n",
        "teams.show()"
      ],
      "metadata": {
        "colab": {
          "base_uri": "https://localhost:8080/"
        },
        "id": "50VEQ8GQb-zK",
        "outputId": "089378d4-b53b-4166-f638-91b40192684a"
      },
      "execution_count": null,
      "outputs": [
        {
          "output_type": "stream",
          "name": "stdout",
          "text": [
            "<class 'pyspark.sql.dataframe.DataFrame'>\n",
            "+---+-------+-------------+------+\n",
            "| id|   Name|     Position| State|\n",
            "+---+-------+-------------+------+\n",
            "|  1|  Amith|           HR|560081|\n",
            "|  2| Soorya|DataScientist|560085|\n",
            "|  3|Vishwas|DataScientist|560082|\n",
            "|  4|  Manoj|DataScientist|560084|\n",
            "|  5|Krishna|      Faculty|560085|\n",
            "|  6| Yashas|DataScientist|560081|\n",
            "|  7| Harsha|DataScientist|560082|\n",
            "|  8| Girish|           HR|560083|\n",
            "|  9|Chandan|      Manager|560083|\n",
            "| 10| Punith|      Manager|560081|\n",
            "+---+-------+-------------+------+\n",
            "\n"
          ]
        }
      ]
    },
    {
      "cell_type": "code",
      "source": [
        "#to view the schema and datatype of each columns\n",
        "teams.printSchema()\n",
        "teams.dtypes"
      ],
      "metadata": {
        "colab": {
          "base_uri": "https://localhost:8080/"
        },
        "id": "4F6_F4b5c3j0",
        "outputId": "4aa6d630-55d9-4b34-d0ec-83c56c18c0de"
      },
      "execution_count": null,
      "outputs": [
        {
          "output_type": "stream",
          "name": "stdout",
          "text": [
            "root\n",
            " |-- id: long (nullable = true)\n",
            " |-- Name: string (nullable = true)\n",
            " |-- Position: string (nullable = true)\n",
            " |-- State: long (nullable = true)\n",
            "\n"
          ]
        },
        {
          "output_type": "execute_result",
          "data": {
            "text/plain": [
              "[('id', 'bigint'),\n",
              " ('Name', 'string'),\n",
              " ('Position', 'string'),\n",
              " ('State', 'bigint')]"
            ]
          },
          "metadata": {},
          "execution_count": 9
        }
      ]
    },
    {
      "cell_type": "code",
      "source": [
        "#number of rows in a dataframes\n",
        "teams.count()"
      ],
      "metadata": {
        "colab": {
          "base_uri": "https://localhost:8080/"
        },
        "id": "5laaoMoZdiUc",
        "outputId": "2567f9b5-27ac-43bb-a208-304afd9cb182"
      },
      "execution_count": null,
      "outputs": [
        {
          "output_type": "execute_result",
          "data": {
            "text/plain": [
              "10"
            ]
          },
          "metadata": {},
          "execution_count": 10
        }
      ]
    },
    {
      "cell_type": "code",
      "source": [
        "teams.rdd.getNumPartitions()"
      ],
      "metadata": {
        "colab": {
          "base_uri": "https://localhost:8080/"
        },
        "id": "YXm24ymKdCey",
        "outputId": "c48a7309-ccec-45e9-b17f-03dff443fe85"
      },
      "execution_count": null,
      "outputs": [
        {
          "output_type": "execute_result",
          "data": {
            "text/plain": [
              "2"
            ]
          },
          "metadata": {},
          "execution_count": 11
        }
      ]
    },
    {
      "cell_type": "code",
      "source": [
        "#Transformation -- filtering datframe based on some conditions \n",
        "#teams.where(\"State == 560081\").show()\n",
        "teams.filter(\"State == 560081\").show()"
      ],
      "metadata": {
        "colab": {
          "base_uri": "https://localhost:8080/"
        },
        "id": "yx7aIZEDdOg4",
        "outputId": "8bc98d94-1bee-41bb-c60a-197e642cfb31"
      },
      "execution_count": null,
      "outputs": [
        {
          "output_type": "stream",
          "name": "stdout",
          "text": [
            "+---+------+-------------+------+\n",
            "| id|  Name|     Position| State|\n",
            "+---+------+-------------+------+\n",
            "|  1| Amith|           HR|560081|\n",
            "|  6|Yashas|DataScientist|560081|\n",
            "| 10|Punith|      Manager|560081|\n",
            "+---+------+-------------+------+\n",
            "\n"
          ]
        }
      ]
    },
    {
      "cell_type": "code",
      "source": [
        "#Creating a spark context to deal with RDD's\n",
        "sc = spark.sparkContext"
      ],
      "metadata": {
        "id": "PLuIHvEVd1sC"
      },
      "execution_count": null,
      "outputs": []
    },
    {
      "cell_type": "code",
      "source": [
        "from google.colab import drive\n",
        "drive.mount('/content/drive')"
      ],
      "metadata": {
        "colab": {
          "base_uri": "https://localhost:8080/"
        },
        "id": "0YVQ6SuJe2WT",
        "outputId": "9a5dbdba-fe81-4369-dc94-106bd7f38fbd"
      },
      "execution_count": null,
      "outputs": [
        {
          "output_type": "stream",
          "name": "stdout",
          "text": [
            "Mounted at /content/drive\n"
          ]
        }
      ]
    },
    {
      "cell_type": "code",
      "source": [
        "# Create an RDD from a source\n",
        "rdd1 = sc.textFile(\"/content/drive/MyDrive/Datasets/toy_dataset.csv\") "
      ],
      "metadata": {
        "id": "rmShn6oPe8jj"
      },
      "execution_count": null,
      "outputs": []
    },
    {
      "cell_type": "code",
      "source": [
        "#by defalut the csv file is read as text file and since we used spark context its read as rdd\n",
        "rdd1.take(5)"
      ],
      "metadata": {
        "colab": {
          "base_uri": "https://localhost:8080/"
        },
        "id": "nnG6eFOaq1Pb",
        "outputId": "86a687ef-3067-4793-ddb0-754511fb0d46"
      },
      "execution_count": null,
      "outputs": [
        {
          "output_type": "execute_result",
          "data": {
            "text/plain": [
              "['Number,City,Gender,Age,Income,Illness',\n",
              " '1,Dallas,Male,41,40367.0,No',\n",
              " '2,Dallas,Male,54,45084.0,No',\n",
              " '3,Dallas,Male,42,52483.0,No',\n",
              " '4,Dallas,Male,40,40941.0,No']"
            ]
          },
          "metadata": {},
          "execution_count": 16
        }
      ]
    },
    {
      "cell_type": "code",
      "source": [
        "rdd1.getNumPartitions()"
      ],
      "metadata": {
        "colab": {
          "base_uri": "https://localhost:8080/"
        },
        "id": "nhB_D1CSrFtI",
        "outputId": "286feb63-08bb-4ff7-ccb4-f63934acc554"
      },
      "execution_count": null,
      "outputs": [
        {
          "output_type": "execute_result",
          "data": {
            "text/plain": [
              "2"
            ]
          },
          "metadata": {},
          "execution_count": 17
        }
      ]
    },
    {
      "cell_type": "code",
      "source": [
        "rdd1 = rdd1.map(lambda x: x.split(\",\"))\n",
        "rdd1.take(5)"
      ],
      "metadata": {
        "colab": {
          "base_uri": "https://localhost:8080/"
        },
        "id": "VLx_2hvcrWwc",
        "outputId": "e403c0b8-52c3-4ebb-9a82-174b059553c4"
      },
      "execution_count": null,
      "outputs": [
        {
          "output_type": "execute_result",
          "data": {
            "text/plain": [
              "[['Number', 'City', 'Gender', 'Age', 'Income', 'Illness'],\n",
              " ['1', 'Dallas', 'Male', '41', '40367.0', 'No'],\n",
              " ['2', 'Dallas', 'Male', '54', '45084.0', 'No'],\n",
              " ['3', 'Dallas', 'Male', '42', '52483.0', 'No'],\n",
              " ['4', 'Dallas', 'Male', '40', '40941.0', 'No']]"
            ]
          },
          "metadata": {},
          "execution_count": 18
        }
      ]
    },
    {
      "cell_type": "code",
      "source": [
        "# Infer the schema, and register the DataFrame as a table.\n",
        "tempDF = spark.createDataFrame(rdd1)\n",
        "tempDF.show(3)"
      ],
      "metadata": {
        "id": "DRblB4Rtrljk",
        "colab": {
          "base_uri": "https://localhost:8080/"
        },
        "outputId": "4224f8e0-6d73-413f-e95d-290adf3debf8"
      },
      "execution_count": null,
      "outputs": [
        {
          "output_type": "stream",
          "name": "stdout",
          "text": [
            "+------+------+------+---+-------+-------+\n",
            "|    _1|    _2|    _3| _4|     _5|     _6|\n",
            "+------+------+------+---+-------+-------+\n",
            "|Number|  City|Gender|Age| Income|Illness|\n",
            "|     1|Dallas|  Male| 41|40367.0|     No|\n",
            "|     2|Dallas|  Male| 54|45084.0|     No|\n",
            "+------+------+------+---+-------+-------+\n",
            "only showing top 3 rows\n",
            "\n"
          ]
        }
      ]
    },
    {
      "cell_type": "markdown",
      "source": [
        "the column names is not take by default, so the bootstarp way of assinging the column name is as below"
      ],
      "metadata": {
        "id": "HiG9A-IbzPkS"
      }
    },
    {
      "cell_type": "code",
      "source": [
        "header = rdd1.first()\n",
        "rows = rdd1.filter(lambda line: line!=header)\n",
        "rows.take(3)"
      ],
      "metadata": {
        "colab": {
          "base_uri": "https://localhost:8080/"
        },
        "id": "Ria3WlcszOKp",
        "outputId": "fa288e63-b4d1-4782-8cd2-80ca3d2fb385"
      },
      "execution_count": null,
      "outputs": [
        {
          "output_type": "execute_result",
          "data": {
            "text/plain": [
              "[['1', 'Dallas', 'Male', '41', '40367.0', 'No'],\n",
              " ['2', 'Dallas', 'Male', '54', '45084.0', 'No'],\n",
              " ['3', 'Dallas', 'Male', '42', '52483.0', 'No']]"
            ]
          },
          "metadata": {},
          "execution_count": 20
        }
      ]
    },
    {
      "cell_type": "code",
      "source": [
        "header"
      ],
      "metadata": {
        "colab": {
          "base_uri": "https://localhost:8080/"
        },
        "id": "VMjYVxZ4zsbY",
        "outputId": "23749952-d869-45ae-e89c-316849730988"
      },
      "execution_count": null,
      "outputs": [
        {
          "output_type": "execute_result",
          "data": {
            "text/plain": [
              "['Number', 'City', 'Gender', 'Age', 'Income', 'Illness']"
            ]
          },
          "metadata": {},
          "execution_count": 21
        }
      ]
    },
    {
      "cell_type": "code",
      "source": [
        "from pyspark.sql import Row\n",
        "rdd2 = rows.map(lambda line: Row(Number=line[0], City=line[1], Gender=line[2], Age=line[3], Income=line[4], Illness=line[5]))\n",
        "rdd2.take(5)"
      ],
      "metadata": {
        "colab": {
          "base_uri": "https://localhost:8080/"
        },
        "id": "laYJCMsw0YTe",
        "outputId": "942e358a-be09-497a-c8d3-8f569f885439"
      },
      "execution_count": null,
      "outputs": [
        {
          "output_type": "execute_result",
          "data": {
            "text/plain": [
              "[Row(Number='1', City='Dallas', Gender='Male', Age='41', Income='40367.0', Illness='No'),\n",
              " Row(Number='2', City='Dallas', Gender='Male', Age='54', Income='45084.0', Illness='No'),\n",
              " Row(Number='3', City='Dallas', Gender='Male', Age='42', Income='52483.0', Illness='No'),\n",
              " Row(Number='4', City='Dallas', Gender='Male', Age='40', Income='40941.0', Illness='No'),\n",
              " Row(Number='5', City='Dallas', Gender='Male', Age='46', Income='50289.0', Illness='No')]"
            ]
          },
          "metadata": {},
          "execution_count": 22
        }
      ]
    },
    {
      "cell_type": "code",
      "source": [
        "rdd2.toDF().show(5)"
      ],
      "metadata": {
        "colab": {
          "base_uri": "https://localhost:8080/"
        },
        "id": "ZcUzNQAk2Ex1",
        "outputId": "f011ba44-5825-4602-9c69-4bbc867ac3f5"
      },
      "execution_count": null,
      "outputs": [
        {
          "output_type": "stream",
          "name": "stdout",
          "text": [
            "+------+------+------+---+-------+-------+\n",
            "|Number|  City|Gender|Age| Income|Illness|\n",
            "+------+------+------+---+-------+-------+\n",
            "|     1|Dallas|  Male| 41|40367.0|     No|\n",
            "|     2|Dallas|  Male| 54|45084.0|     No|\n",
            "|     3|Dallas|  Male| 42|52483.0|     No|\n",
            "|     4|Dallas|  Male| 40|40941.0|     No|\n",
            "|     5|Dallas|  Male| 46|50289.0|     No|\n",
            "+------+------+------+---+-------+-------+\n",
            "only showing top 5 rows\n",
            "\n"
          ]
        }
      ]
    },
    {
      "cell_type": "code",
      "source": [
        "# Infer the schema, and register the DataFrame as a table.\n",
        "tempDF = spark.createDataFrame(rdd2)\n",
        "tempDF.show(5)"
      ],
      "metadata": {
        "colab": {
          "base_uri": "https://localhost:8080/"
        },
        "id": "-lLZsMVA2dgj",
        "outputId": "b69eb684-61fd-40c3-d23b-d883f18a8cf5"
      },
      "execution_count": null,
      "outputs": [
        {
          "output_type": "stream",
          "name": "stdout",
          "text": [
            "+------+------+------+---+-------+-------+\n",
            "|Number|  City|Gender|Age| Income|Illness|\n",
            "+------+------+------+---+-------+-------+\n",
            "|     1|Dallas|  Male| 41|40367.0|     No|\n",
            "|     2|Dallas|  Male| 54|45084.0|     No|\n",
            "|     3|Dallas|  Male| 42|52483.0|     No|\n",
            "|     4|Dallas|  Male| 40|40941.0|     No|\n",
            "|     5|Dallas|  Male| 46|50289.0|     No|\n",
            "+------+------+------+---+-------+-------+\n",
            "only showing top 5 rows\n",
            "\n"
          ]
        }
      ]
    },
    {
      "cell_type": "code",
      "source": [
        "tempDF.printSchema()"
      ],
      "metadata": {
        "colab": {
          "base_uri": "https://localhost:8080/"
        },
        "id": "s0vBx2Kp27BL",
        "outputId": "678e5fc8-6c14-427b-89c4-d6a8716d7f6a"
      },
      "execution_count": null,
      "outputs": [
        {
          "output_type": "stream",
          "name": "stdout",
          "text": [
            "root\n",
            " |-- Number: string (nullable = true)\n",
            " |-- City: string (nullable = true)\n",
            " |-- Gender: string (nullable = true)\n",
            " |-- Age: string (nullable = true)\n",
            " |-- Income: string (nullable = true)\n",
            " |-- Illness: string (nullable = true)\n",
            "\n"
          ]
        }
      ]
    },
    {
      "cell_type": "code",
      "source": [
        "tempDF.count()"
      ],
      "metadata": {
        "colab": {
          "base_uri": "https://localhost:8080/"
        },
        "id": "eEN48zCU6Iho",
        "outputId": "dd7fc37d-1bba-40f3-8c70-5a4ce2842976"
      },
      "execution_count": null,
      "outputs": [
        {
          "output_type": "execute_result",
          "data": {
            "text/plain": [
              "150000"
            ]
          },
          "metadata": {},
          "execution_count": 26
        }
      ]
    },
    {
      "cell_type": "code",
      "source": [
        "tempDF.select(tempDF.Illness).distinct().show()"
      ],
      "metadata": {
        "colab": {
          "base_uri": "https://localhost:8080/"
        },
        "id": "4hVDyU4i7Kfq",
        "outputId": "97c02018-08d4-4482-ec04-c3d5bd080e25"
      },
      "execution_count": null,
      "outputs": [
        {
          "output_type": "stream",
          "name": "stdout",
          "text": [
            "+-------+\n",
            "|Illness|\n",
            "+-------+\n",
            "|     No|\n",
            "|    Yes|\n",
            "+-------+\n",
            "\n"
          ]
        }
      ]
    },
    {
      "cell_type": "code",
      "source": [
        "tempDF.where(\"Age > 60\").count()"
      ],
      "metadata": {
        "colab": {
          "base_uri": "https://localhost:8080/"
        },
        "id": "lN9H1Hh-7epx",
        "outputId": "abee50e5-eaaf-42fa-857a-43e61b0630bc"
      },
      "execution_count": null,
      "outputs": [
        {
          "output_type": "execute_result",
          "data": {
            "text/plain": [
              "16948"
            ]
          },
          "metadata": {},
          "execution_count": 28
        }
      ]
    },
    {
      "cell_type": "code",
      "source": [
        "#Sampling 20% from dataframe\n",
        "dfsample = tempDF.sample(False, 0.2, 1234)\n",
        "dfsample.show(5)"
      ],
      "metadata": {
        "colab": {
          "base_uri": "https://localhost:8080/"
        },
        "id": "HmHt7Lrs66x6",
        "outputId": "a82c37f2-ce12-4bd2-8715-77d3345defa2"
      },
      "execution_count": null,
      "outputs": [
        {
          "output_type": "stream",
          "name": "stdout",
          "text": [
            "+------+------+------+---+-------+-------+\n",
            "|Number|  City|Gender|Age| Income|Illness|\n",
            "+------+------+------+---+-------+-------+\n",
            "|    15|Dallas|Female| 61|38429.0|     No|\n",
            "|    17|Dallas|  Male| 27|50398.0|     No|\n",
            "|    31|Dallas|Female| 44|40353.0|     No|\n",
            "|    36|Dallas|  Male| 41|50312.0|     No|\n",
            "|    38|Dallas|Female| 41|29538.0|     No|\n",
            "+------+------+------+---+-------+-------+\n",
            "only showing top 5 rows\n",
            "\n"
          ]
        }
      ]
    },
    {
      "cell_type": "code",
      "source": [
        "dfsamplePD = dfsample.toPandas()\n",
        "type(dfsamplePD)"
      ],
      "metadata": {
        "colab": {
          "base_uri": "https://localhost:8080/"
        },
        "id": "qL0q0IHy8fMj",
        "outputId": "26177fba-34f9-4422-cec9-adaba2f31864"
      },
      "execution_count": null,
      "outputs": [
        {
          "output_type": "execute_result",
          "data": {
            "text/plain": [
              "pandas.core.frame.DataFrame"
            ]
          },
          "metadata": {},
          "execution_count": 30
        }
      ]
    },
    {
      "cell_type": "markdown",
      "source": [
        "Reading a CSV file into a DataFrame "
      ],
      "metadata": {
        "id": "Cmg6EXSsEntn"
      }
    },
    {
      "cell_type": "code",
      "source": [
        "sdf = spark.read.format(\"csv\")\\\n",
        "      .option(\"header\",\"true\")\\\n",
        "      .option(\"inferSchema\",\"true\")\\\n",
        "      .load(\"/content/drive/MyDrive/Datasets/toy_dataset.csv\")"
      ],
      "metadata": {
        "id": "OsU3FIj-8s85"
      },
      "execution_count": null,
      "outputs": []
    },
    {
      "cell_type": "code",
      "source": [
        "sdf.show(5)"
      ],
      "metadata": {
        "colab": {
          "base_uri": "https://localhost:8080/"
        },
        "id": "Exx-GhilFQ1P",
        "outputId": "804d7ca1-9495-4200-938d-f815478685f1"
      },
      "execution_count": null,
      "outputs": [
        {
          "output_type": "stream",
          "name": "stdout",
          "text": [
            "+------+------+------+---+-------+-------+\n",
            "|Number|  City|Gender|Age| Income|Illness|\n",
            "+------+------+------+---+-------+-------+\n",
            "|     1|Dallas|  Male| 41|40367.0|     No|\n",
            "|     2|Dallas|  Male| 54|45084.0|     No|\n",
            "|     3|Dallas|  Male| 42|52483.0|     No|\n",
            "|     4|Dallas|  Male| 40|40941.0|     No|\n",
            "|     5|Dallas|  Male| 46|50289.0|     No|\n",
            "+------+------+------+---+-------+-------+\n",
            "only showing top 5 rows\n",
            "\n"
          ]
        }
      ]
    },
    {
      "cell_type": "code",
      "source": [
        "# rows count\n",
        "sdf.count()"
      ],
      "metadata": {
        "colab": {
          "base_uri": "https://localhost:8080/"
        },
        "id": "af_wqBrwFT8w",
        "outputId": "e63af7c7-f4af-417e-8adc-334c1c6f0560"
      },
      "execution_count": null,
      "outputs": [
        {
          "output_type": "execute_result",
          "data": {
            "text/plain": [
              "150000"
            ]
          },
          "metadata": {},
          "execution_count": 33
        }
      ]
    },
    {
      "cell_type": "code",
      "source": [
        "sdf.printSchema()"
      ],
      "metadata": {
        "colab": {
          "base_uri": "https://localhost:8080/"
        },
        "id": "nkTFhP-zFWZZ",
        "outputId": "5cb2adfe-5202-4a01-ffc5-30251c002ce8"
      },
      "execution_count": null,
      "outputs": [
        {
          "output_type": "stream",
          "name": "stdout",
          "text": [
            "root\n",
            " |-- Number: integer (nullable = true)\n",
            " |-- City: string (nullable = true)\n",
            " |-- Gender: string (nullable = true)\n",
            " |-- Age: integer (nullable = true)\n",
            " |-- Income: double (nullable = true)\n",
            " |-- Illness: string (nullable = true)\n",
            "\n"
          ]
        }
      ]
    },
    {
      "cell_type": "code",
      "source": [
        "sdf.take(2)"
      ],
      "metadata": {
        "colab": {
          "base_uri": "https://localhost:8080/"
        },
        "id": "FT87AWrxFafV",
        "outputId": "d8946729-a30f-4f52-99db-465ee88f736e"
      },
      "execution_count": null,
      "outputs": [
        {
          "output_type": "execute_result",
          "data": {
            "text/plain": [
              "[Row(Number=1, City='Dallas', Gender='Male', Age=41, Income=40367.0, Illness='No'),\n",
              " Row(Number=2, City='Dallas', Gender='Male', Age=54, Income=45084.0, Illness='No')]"
            ]
          },
          "metadata": {},
          "execution_count": 35
        }
      ]
    },
    {
      "cell_type": "code",
      "source": [
        "sdf.where(\"Age > 40\").count()"
      ],
      "metadata": {
        "colab": {
          "base_uri": "https://localhost:8080/"
        },
        "id": "cU2KiAf8FlOH",
        "outputId": "72722916-bc65-43fc-cc5a-4e6b58b9f623"
      },
      "execution_count": null,
      "outputs": [
        {
          "output_type": "execute_result",
          "data": {
            "text/plain": [
              "91745"
            ]
          },
          "metadata": {},
          "execution_count": 36
        }
      ]
    },
    {
      "cell_type": "code",
      "source": [
        "sdf.filter(\"Illness = 'Yes'\").count()"
      ],
      "metadata": {
        "colab": {
          "base_uri": "https://localhost:8080/"
        },
        "id": "CDpesW_cFtbx",
        "outputId": "eda4f3a1-a961-467e-d8ae-288b503c0cf4"
      },
      "execution_count": null,
      "outputs": [
        {
          "output_type": "execute_result",
          "data": {
            "text/plain": [
              "12139"
            ]
          },
          "metadata": {},
          "execution_count": 37
        }
      ]
    },
    {
      "cell_type": "code",
      "source": [
        "# number of columns \n",
        "print(len(sdf.columns))\n",
        "sdf.columns"
      ],
      "metadata": {
        "colab": {
          "base_uri": "https://localhost:8080/"
        },
        "id": "4qTouKQ5F4dR",
        "outputId": "7bd5da6e-f01f-4766-895d-a877d463706a"
      },
      "execution_count": null,
      "outputs": [
        {
          "output_type": "stream",
          "name": "stdout",
          "text": [
            "6\n"
          ]
        },
        {
          "output_type": "execute_result",
          "data": {
            "text/plain": [
              "['Number', 'City', 'Gender', 'Age', 'Income', 'Illness']"
            ]
          },
          "metadata": {},
          "execution_count": 38
        }
      ]
    },
    {
      "cell_type": "code",
      "source": [
        "sdf.describe().show()"
      ],
      "metadata": {
        "colab": {
          "base_uri": "https://localhost:8080/"
        },
        "id": "hYLratHqGdH4",
        "outputId": "3fbde2b0-4008-42dd-c2d5-695766f04e28"
      },
      "execution_count": null,
      "outputs": [
        {
          "output_type": "stream",
          "name": "stdout",
          "text": [
            "+-------+------------------+---------------+------+------------------+------------------+-------+\n",
            "|summary|            Number|           City|Gender|               Age|            Income|Illness|\n",
            "+-------+------------------+---------------+------+------------------+------------------+-------+\n",
            "|  count|            150000|         150000|150000|            150000|            150000| 150000|\n",
            "|   mean|           75000.5|           null|  null|           44.9502| 91252.79827333333|   null|\n",
            "| stddev|43301.414526548666|           null|  null|11.572485735982012|24989.500948354525|   null|\n",
            "|    min|                 1|         Austin|Female|                25|            -654.0|     No|\n",
            "|    max|            150000|Washington D.C.|  Male|                65|          177157.0|    Yes|\n",
            "+-------+------------------+---------------+------+------------------+------------------+-------+\n",
            "\n"
          ]
        }
      ]
    },
    {
      "cell_type": "code",
      "source": [
        "sdf.describe([\"Income\",\"Illness\"]).show()"
      ],
      "metadata": {
        "colab": {
          "base_uri": "https://localhost:8080/"
        },
        "id": "c3kuNpftGiVa",
        "outputId": "46d8be16-5006-4307-c864-041be9c5ee0d"
      },
      "execution_count": null,
      "outputs": [
        {
          "output_type": "stream",
          "name": "stdout",
          "text": [
            "+-------+------------------+-------+\n",
            "|summary|            Income|Illness|\n",
            "+-------+------------------+-------+\n",
            "|  count|            150000| 150000|\n",
            "|   mean| 91252.79827333333|   null|\n",
            "| stddev|24989.500948354525|   null|\n",
            "|    min|            -654.0|     No|\n",
            "|    max|          177157.0|    Yes|\n",
            "+-------+------------------+-------+\n",
            "\n"
          ]
        }
      ]
    },
    {
      "cell_type": "markdown",
      "source": [
        "# Spark SQL "
      ],
      "metadata": {
        "id": "z4VDL5bvHBzA"
      }
    },
    {
      "cell_type": "code",
      "source": [
        "sdf.createOrReplaceTempView(\"sdfsql\")"
      ],
      "metadata": {
        "id": "ZLeQPPF-GnPW"
      },
      "execution_count": null,
      "outputs": []
    },
    {
      "cell_type": "code",
      "source": [
        "spark.sql(\"select count(*) from sdfsql\").show()"
      ],
      "metadata": {
        "colab": {
          "base_uri": "https://localhost:8080/"
        },
        "id": "kl_FQNKbH71O",
        "outputId": "45117071-917c-4763-c47a-16f4a23c8a2b"
      },
      "execution_count": null,
      "outputs": [
        {
          "output_type": "stream",
          "name": "stdout",
          "text": [
            "+--------+\n",
            "|count(1)|\n",
            "+--------+\n",
            "|  150000|\n",
            "+--------+\n",
            "\n"
          ]
        }
      ]
    },
    {
      "cell_type": "code",
      "source": [
        "spark.sql(\"select * from sdfsql limit 5\").show()"
      ],
      "metadata": {
        "colab": {
          "base_uri": "https://localhost:8080/"
        },
        "id": "bqNRbmyRHPfk",
        "outputId": "5f5da79a-2307-4e5e-8709-9b1992cfdaf6"
      },
      "execution_count": null,
      "outputs": [
        {
          "output_type": "stream",
          "name": "stdout",
          "text": [
            "+------+------+------+---+-------+-------+\n",
            "|Number|  City|Gender|Age| Income|Illness|\n",
            "+------+------+------+---+-------+-------+\n",
            "|     1|Dallas|  Male| 41|40367.0|     No|\n",
            "|     2|Dallas|  Male| 54|45084.0|     No|\n",
            "|     3|Dallas|  Male| 42|52483.0|     No|\n",
            "|     4|Dallas|  Male| 40|40941.0|     No|\n",
            "|     5|Dallas|  Male| 46|50289.0|     No|\n",
            "+------+------+------+---+-------+-------+\n",
            "\n"
          ]
        }
      ]
    },
    {
      "cell_type": "code",
      "source": [
        "spark.sql(\"select * from sdfsql where Illness == 'Yes'\").count()"
      ],
      "metadata": {
        "colab": {
          "base_uri": "https://localhost:8080/"
        },
        "id": "3onXKDP2HeMf",
        "outputId": "02cfee33-1ad2-451d-df0b-8b2db53aa51a"
      },
      "execution_count": null,
      "outputs": [
        {
          "output_type": "execute_result",
          "data": {
            "text/plain": [
              "12139"
            ]
          },
          "metadata": {},
          "execution_count": 44
        }
      ]
    },
    {
      "cell_type": "code",
      "source": [
        "#column referncing\n",
        "from pyspark.sql.functions import expr, col, column\n",
        "sdf.select(col(\"City\")).distinct().show()"
      ],
      "metadata": {
        "colab": {
          "base_uri": "https://localhost:8080/"
        },
        "id": "zyuo68olIie5",
        "outputId": "811f61f9-b9bd-46e6-d4eb-3f98b9578daf"
      },
      "execution_count": null,
      "outputs": [
        {
          "output_type": "stream",
          "name": "stdout",
          "text": [
            "+---------------+\n",
            "|           City|\n",
            "+---------------+\n",
            "|         Dallas|\n",
            "|    Los Angeles|\n",
            "|      San Diego|\n",
            "|         Austin|\n",
            "|  New York City|\n",
            "|Washington D.C.|\n",
            "|  Mountain View|\n",
            "|         Boston|\n",
            "+---------------+\n",
            "\n"
          ]
        }
      ]
    },
    {
      "cell_type": "code",
      "source": [
        "sdf.filter(col(\"City\") == \"Dallas\").count()"
      ],
      "metadata": {
        "colab": {
          "base_uri": "https://localhost:8080/"
        },
        "id": "keZQGYKHHX8I",
        "outputId": "2beeea52-15ff-4b1b-ba2b-ac31f92c82ab"
      },
      "execution_count": null,
      "outputs": [
        {
          "output_type": "execute_result",
          "data": {
            "text/plain": [
              "19707"
            ]
          },
          "metadata": {},
          "execution_count": 47
        }
      ]
    },
    {
      "cell_type": "code",
      "source": [
        "# spark.sql(\"select * from sdfsql where City =='Dallas'\").count()\n",
        "spark.sql(\"select count(*) from sdfsql where City =='Dallas'\").show()"
      ],
      "metadata": {
        "colab": {
          "base_uri": "https://localhost:8080/"
        },
        "id": "9hHFb7e9Igyw",
        "outputId": "2d94edb3-605c-4de0-ceb4-b5bba3258a5d"
      },
      "execution_count": null,
      "outputs": [
        {
          "output_type": "stream",
          "name": "stdout",
          "text": [
            "+--------+\n",
            "|count(1)|\n",
            "+--------+\n",
            "|   19707|\n",
            "+--------+\n",
            "\n"
          ]
        }
      ]
    },
    {
      "cell_type": "code",
      "source": [
        "sdf.select(expr(\"City AS Location\"),\"Gender\",expr(\"Illness AS Target\")).show(5)"
      ],
      "metadata": {
        "colab": {
          "base_uri": "https://localhost:8080/"
        },
        "id": "5E91RG-OJhFU",
        "outputId": "d5920fa2-c59d-49c0-95b3-813bcc6eea18"
      },
      "execution_count": null,
      "outputs": [
        {
          "output_type": "stream",
          "name": "stdout",
          "text": [
            "+--------+------+------+\n",
            "|Location|Gender|Target|\n",
            "+--------+------+------+\n",
            "|  Dallas|  Male|    No|\n",
            "|  Dallas|  Male|    No|\n",
            "|  Dallas|  Male|    No|\n",
            "|  Dallas|  Male|    No|\n",
            "|  Dallas|  Male|    No|\n",
            "+--------+------+------+\n",
            "only showing top 5 rows\n",
            "\n"
          ]
        }
      ]
    },
    {
      "cell_type": "code",
      "source": [
        "spark.sql(\"select City AS Location, Gender, Illness as Target from sdfsql limit 5\").show()"
      ],
      "metadata": {
        "colab": {
          "base_uri": "https://localhost:8080/"
        },
        "id": "WctsqUPkKZ27",
        "outputId": "cad5d229-8aef-4686-d34e-54416e3c7d4a"
      },
      "execution_count": null,
      "outputs": [
        {
          "output_type": "stream",
          "name": "stdout",
          "text": [
            "+--------+------+------+\n",
            "|Location|Gender|Target|\n",
            "+--------+------+------+\n",
            "|  Dallas|  Male|    No|\n",
            "|  Dallas|  Male|    No|\n",
            "|  Dallas|  Male|    No|\n",
            "|  Dallas|  Male|    No|\n",
            "|  Dallas|  Male|    No|\n",
            "+--------+------+------+\n",
            "\n"
          ]
        }
      ]
    },
    {
      "cell_type": "code",
      "source": [
        "from pyspark.sql.functions import lit\n",
        "sdftemp = sdf.select(\"*\",lit(10000).alias(\"Constant\"))"
      ],
      "metadata": {
        "id": "20obD_g-LECj"
      },
      "execution_count": null,
      "outputs": []
    },
    {
      "cell_type": "code",
      "source": [
        "sdftemp.show(5)"
      ],
      "metadata": {
        "colab": {
          "base_uri": "https://localhost:8080/"
        },
        "id": "YsZPVNv4Ljgl",
        "outputId": "6e8b499d-7d8b-4d22-d930-05c94a9b02e6"
      },
      "execution_count": null,
      "outputs": [
        {
          "output_type": "stream",
          "name": "stdout",
          "text": [
            "+------+------+------+---+-------+-------+--------+\n",
            "|Number|  City|Gender|Age| Income|Illness|Constant|\n",
            "+------+------+------+---+-------+-------+--------+\n",
            "|     1|Dallas|  Male| 41|40367.0|     No|   10000|\n",
            "|     2|Dallas|  Male| 54|45084.0|     No|   10000|\n",
            "|     3|Dallas|  Male| 42|52483.0|     No|   10000|\n",
            "|     4|Dallas|  Male| 40|40941.0|     No|   10000|\n",
            "|     5|Dallas|  Male| 46|50289.0|     No|   10000|\n",
            "+------+------+------+---+-------+-------+--------+\n",
            "only showing top 5 rows\n",
            "\n"
          ]
        }
      ]
    },
    {
      "cell_type": "code",
      "source": [
        "sdftemp.printSchema()"
      ],
      "metadata": {
        "colab": {
          "base_uri": "https://localhost:8080/"
        },
        "id": "FobR_dz4MF3J",
        "outputId": "9172c541-282d-465d-e72b-acda02ff2bf0"
      },
      "execution_count": null,
      "outputs": [
        {
          "output_type": "stream",
          "name": "stdout",
          "text": [
            "root\n",
            " |-- Number: integer (nullable = true)\n",
            " |-- City: string (nullable = true)\n",
            " |-- Gender: string (nullable = true)\n",
            " |-- Age: integer (nullable = true)\n",
            " |-- Income: double (nullable = true)\n",
            " |-- Illness: string (nullable = true)\n",
            " |-- Constant: integer (nullable = false)\n",
            "\n"
          ]
        }
      ]
    },
    {
      "cell_type": "code",
      "source": [
        "spark.sql(\"select 10000 as Constant,* from sdfsql limit 5\").show()"
      ],
      "metadata": {
        "colab": {
          "base_uri": "https://localhost:8080/"
        },
        "id": "N7VY6p6fMJ6A",
        "outputId": "c77a84df-2c7e-4949-d5fa-415ef8bfdc0c"
      },
      "execution_count": null,
      "outputs": [
        {
          "output_type": "stream",
          "name": "stdout",
          "text": [
            "+--------+------+------+------+---+-------+-------+\n",
            "|Constant|Number|  City|Gender|Age| Income|Illness|\n",
            "+--------+------+------+------+---+-------+-------+\n",
            "|   10000|     1|Dallas|  Male| 41|40367.0|     No|\n",
            "|   10000|     2|Dallas|  Male| 54|45084.0|     No|\n",
            "|   10000|     3|Dallas|  Male| 42|52483.0|     No|\n",
            "|   10000|     4|Dallas|  Male| 40|40941.0|     No|\n",
            "|   10000|     5|Dallas|  Male| 46|50289.0|     No|\n",
            "+--------+------+------+------+---+-------+-------+\n",
            "\n"
          ]
        }
      ]
    },
    {
      "cell_type": "code",
      "source": [
        "sdftemp.dtypes"
      ],
      "metadata": {
        "colab": {
          "base_uri": "https://localhost:8080/"
        },
        "id": "LDkME4_cMZc1",
        "outputId": "0519ce33-7342-4155-d5de-d2f4481960a0"
      },
      "execution_count": null,
      "outputs": [
        {
          "output_type": "execute_result",
          "data": {
            "text/plain": [
              "[('Number', 'int'),\n",
              " ('City', 'string'),\n",
              " ('Gender', 'string'),\n",
              " ('Age', 'int'),\n",
              " ('Income', 'double'),\n",
              " ('Illness', 'string'),\n",
              " ('Constant', 'int')]"
            ]
          },
          "metadata": {},
          "execution_count": 55
        }
      ]
    },
    {
      "cell_type": "markdown",
      "source": [
        "# Adding column in a formal way"
      ],
      "metadata": {
        "id": "fXfX3VNzMpcE"
      }
    },
    {
      "cell_type": "code",
      "source": [
        "sdf.withColumn(\"Constant\", lit(10000)).show(5)"
      ],
      "metadata": {
        "colab": {
          "base_uri": "https://localhost:8080/"
        },
        "id": "U9YyUI1VMkEC",
        "outputId": "727e8de1-0ceb-444f-cb1d-859e288b58f9"
      },
      "execution_count": null,
      "outputs": [
        {
          "output_type": "stream",
          "name": "stdout",
          "text": [
            "+------+------+------+---+-------+-------+--------+\n",
            "|Number|  City|Gender|Age| Income|Illness|Constant|\n",
            "+------+------+------+---+-------+-------+--------+\n",
            "|     1|Dallas|  Male| 41|40367.0|     No|   10000|\n",
            "|     2|Dallas|  Male| 54|45084.0|     No|   10000|\n",
            "|     3|Dallas|  Male| 42|52483.0|     No|   10000|\n",
            "|     4|Dallas|  Male| 40|40941.0|     No|   10000|\n",
            "|     5|Dallas|  Male| 46|50289.0|     No|   10000|\n",
            "+------+------+------+---+-------+-------+--------+\n",
            "only showing top 5 rows\n",
            "\n"
          ]
        }
      ]
    },
    {
      "cell_type": "code",
      "source": [
        "#updating the dataframe with new column\n",
        "sdf = sdf.withColumn(\"Constant\", lit(10000))"
      ],
      "metadata": {
        "id": "-VsmsWanM7-E"
      },
      "execution_count": null,
      "outputs": []
    },
    {
      "cell_type": "code",
      "source": [
        "sdf.show(5)"
      ],
      "metadata": {
        "colab": {
          "base_uri": "https://localhost:8080/"
        },
        "id": "W_z0Ga2CNIQH",
        "outputId": "ea38f2e9-d3d8-4d0f-d351-19655c53fd09"
      },
      "execution_count": null,
      "outputs": [
        {
          "output_type": "stream",
          "name": "stdout",
          "text": [
            "+------+------+------+---+-------+-------+--------+\n",
            "|Number|  City|Gender|Age| Income|Illness|Constant|\n",
            "+------+------+------+---+-------+-------+--------+\n",
            "|     1|Dallas|  Male| 41|40367.0|     No|   10000|\n",
            "|     2|Dallas|  Male| 54|45084.0|     No|   10000|\n",
            "|     3|Dallas|  Male| 42|52483.0|     No|   10000|\n",
            "|     4|Dallas|  Male| 40|40941.0|     No|   10000|\n",
            "|     5|Dallas|  Male| 46|50289.0|     No|   10000|\n",
            "+------+------+------+---+-------+-------+--------+\n",
            "only showing top 5 rows\n",
            "\n"
          ]
        }
      ]
    },
    {
      "cell_type": "code",
      "source": [
        "sdf.printSchema()"
      ],
      "metadata": {
        "colab": {
          "base_uri": "https://localhost:8080/"
        },
        "id": "Vi1ZCjG5NKFU",
        "outputId": "f096d8e3-e56a-41ce-da82-e7a5d05252a6"
      },
      "execution_count": null,
      "outputs": [
        {
          "output_type": "stream",
          "name": "stdout",
          "text": [
            "root\n",
            " |-- Number: integer (nullable = true)\n",
            " |-- City: string (nullable = true)\n",
            " |-- Gender: string (nullable = true)\n",
            " |-- Age: integer (nullable = true)\n",
            " |-- Income: double (nullable = true)\n",
            " |-- Illness: string (nullable = true)\n",
            " |-- Constant: integer (nullable = false)\n",
            "\n"
          ]
        }
      ]
    },
    {
      "cell_type": "code",
      "source": [
        "sdf.select(\"City\").distinct().show()"
      ],
      "metadata": {
        "colab": {
          "base_uri": "https://localhost:8080/"
        },
        "id": "3p8AvRm_Nomp",
        "outputId": "a667e674-a914-47f1-8aa5-39946be6f1ea"
      },
      "execution_count": null,
      "outputs": [
        {
          "output_type": "stream",
          "name": "stdout",
          "text": [
            "+---------------+\n",
            "|           City|\n",
            "+---------------+\n",
            "|         Dallas|\n",
            "|    Los Angeles|\n",
            "|      San Diego|\n",
            "|         Austin|\n",
            "|  New York City|\n",
            "|Washington D.C.|\n",
            "|  Mountain View|\n",
            "|         Boston|\n",
            "+---------------+\n",
            "\n"
          ]
        }
      ]
    },
    {
      "cell_type": "code",
      "source": [
        "spark.sql(\"select distinct City from sdfsql\").show()"
      ],
      "metadata": {
        "colab": {
          "base_uri": "https://localhost:8080/"
        },
        "id": "s31uPO9ENU69",
        "outputId": "ffd07eb8-04c3-4065-d401-d751641f8f7d"
      },
      "execution_count": null,
      "outputs": [
        {
          "output_type": "stream",
          "name": "stdout",
          "text": [
            "+---------------+\n",
            "|           City|\n",
            "+---------------+\n",
            "|         Dallas|\n",
            "|    Los Angeles|\n",
            "|      San Diego|\n",
            "|         Austin|\n",
            "|  New York City|\n",
            "|Washington D.C.|\n",
            "|  Mountain View|\n",
            "|         Boston|\n",
            "+---------------+\n",
            "\n"
          ]
        }
      ]
    },
    {
      "cell_type": "code",
      "source": [
        "#creating new column as Income_extra, by adding two different columns Income, Constant \n",
        "sdf.withColumn(\"Income_extra\", col(\"Income\")+col(\"Constant\")).show(10)"
      ],
      "metadata": {
        "colab": {
          "base_uri": "https://localhost:8080/"
        },
        "id": "Q3Eti0d1Njf-",
        "outputId": "43e8c2f5-664f-4889-e3b8-87769a7da485"
      },
      "execution_count": null,
      "outputs": [
        {
          "output_type": "stream",
          "name": "stdout",
          "text": [
            "+------+------+------+---+-------+-------+--------+------------+\n",
            "|Number|  City|Gender|Age| Income|Illness|Constant|Income_extra|\n",
            "+------+------+------+---+-------+-------+--------+------------+\n",
            "|     1|Dallas|  Male| 41|40367.0|     No|   10000|     50367.0|\n",
            "|     2|Dallas|  Male| 54|45084.0|     No|   10000|     55084.0|\n",
            "|     3|Dallas|  Male| 42|52483.0|     No|   10000|     62483.0|\n",
            "|     4|Dallas|  Male| 40|40941.0|     No|   10000|     50941.0|\n",
            "|     5|Dallas|  Male| 46|50289.0|     No|   10000|     60289.0|\n",
            "|     6|Dallas|Female| 36|50786.0|     No|   10000|     60786.0|\n",
            "|     7|Dallas|Female| 32|33155.0|     No|   10000|     43155.0|\n",
            "|     8|Dallas|  Male| 39|30914.0|     No|   10000|     40914.0|\n",
            "|     9|Dallas|  Male| 51|68667.0|     No|   10000|     78667.0|\n",
            "|    10|Dallas|Female| 30|50082.0|     No|   10000|     60082.0|\n",
            "+------+------+------+---+-------+-------+--------+------------+\n",
            "only showing top 10 rows\n",
            "\n"
          ]
        }
      ]
    },
    {
      "cell_type": "code",
      "source": [
        "#making this changes to original Income column \n",
        "sdf = sdf.withColumn(\"Income\", col(\"Income\")+col(\"Constant\"))\n",
        "sdf.show(10)"
      ],
      "metadata": {
        "colab": {
          "base_uri": "https://localhost:8080/"
        },
        "id": "0AXcbtEbOgSR",
        "outputId": "e1c98f9e-8a5b-4bab-dbf9-1d013e7910cd"
      },
      "execution_count": null,
      "outputs": [
        {
          "output_type": "stream",
          "name": "stdout",
          "text": [
            "+------+------+------+---+-------+-------+--------+\n",
            "|Number|  City|Gender|Age| Income|Illness|Constant|\n",
            "+------+------+------+---+-------+-------+--------+\n",
            "|     1|Dallas|  Male| 41|50367.0|     No|   10000|\n",
            "|     2|Dallas|  Male| 54|55084.0|     No|   10000|\n",
            "|     3|Dallas|  Male| 42|62483.0|     No|   10000|\n",
            "|     4|Dallas|  Male| 40|50941.0|     No|   10000|\n",
            "|     5|Dallas|  Male| 46|60289.0|     No|   10000|\n",
            "|     6|Dallas|Female| 36|60786.0|     No|   10000|\n",
            "|     7|Dallas|Female| 32|43155.0|     No|   10000|\n",
            "|     8|Dallas|  Male| 39|40914.0|     No|   10000|\n",
            "|     9|Dallas|  Male| 51|78667.0|     No|   10000|\n",
            "|    10|Dallas|Female| 30|60082.0|     No|   10000|\n",
            "+------+------+------+---+-------+-------+--------+\n",
            "only showing top 10 rows\n",
            "\n"
          ]
        }
      ]
    },
    {
      "cell_type": "markdown",
      "source": [
        "# Renaming Column"
      ],
      "metadata": {
        "id": "o2CE1rHLPBD3"
      }
    },
    {
      "cell_type": "code",
      "source": [
        "sdf.withColumnRenamed(\"City\",\"Location\").show(5)"
      ],
      "metadata": {
        "colab": {
          "base_uri": "https://localhost:8080/"
        },
        "id": "lxZyxnFrO6b6",
        "outputId": "309f6103-1bae-4421-d457-012f3880ae2e"
      },
      "execution_count": null,
      "outputs": [
        {
          "output_type": "stream",
          "name": "stdout",
          "text": [
            "+------+--------+------+---+-------+-------+--------+\n",
            "|Number|Location|Gender|Age| Income|Illness|Constant|\n",
            "+------+--------+------+---+-------+-------+--------+\n",
            "|     1|  Dallas|  Male| 41|50367.0|     No|   10000|\n",
            "|     2|  Dallas|  Male| 54|55084.0|     No|   10000|\n",
            "|     3|  Dallas|  Male| 42|62483.0|     No|   10000|\n",
            "|     4|  Dallas|  Male| 40|50941.0|     No|   10000|\n",
            "|     5|  Dallas|  Male| 46|60289.0|     No|   10000|\n",
            "+------+--------+------+---+-------+-------+--------+\n",
            "only showing top 5 rows\n",
            "\n"
          ]
        }
      ]
    },
    {
      "cell_type": "markdown",
      "source": [
        "# Removing Columns"
      ],
      "metadata": {
        "id": "AzwnybetPWky"
      }
    },
    {
      "cell_type": "code",
      "source": [
        "sdf = sdf.drop(\"Constant\")"
      ],
      "metadata": {
        "id": "2fCcJzqJPPNm"
      },
      "execution_count": null,
      "outputs": []
    },
    {
      "cell_type": "code",
      "source": [
        "sdf.show(5)"
      ],
      "metadata": {
        "colab": {
          "base_uri": "https://localhost:8080/"
        },
        "id": "PE9HfgFUPfQF",
        "outputId": "0c406ca5-c68d-4b38-872e-2229009ddd49"
      },
      "execution_count": null,
      "outputs": [
        {
          "output_type": "stream",
          "name": "stdout",
          "text": [
            "+------+------+------+---+-------+-------+\n",
            "|Number|  City|Gender|Age| Income|Illness|\n",
            "+------+------+------+---+-------+-------+\n",
            "|     1|Dallas|  Male| 41|50367.0|     No|\n",
            "|     2|Dallas|  Male| 54|55084.0|     No|\n",
            "|     3|Dallas|  Male| 42|62483.0|     No|\n",
            "|     4|Dallas|  Male| 40|50941.0|     No|\n",
            "|     5|Dallas|  Male| 46|60289.0|     No|\n",
            "+------+------+------+---+-------+-------+\n",
            "only showing top 5 rows\n",
            "\n"
          ]
        }
      ]
    },
    {
      "cell_type": "markdown",
      "source": [
        "# Changing a Column’s Type (cast)"
      ],
      "metadata": {
        "id": "aPYzga2kP5OJ"
      }
    },
    {
      "cell_type": "code",
      "source": [
        "sdf = sdf.withColumn(\"sample\",lit('2022'))"
      ],
      "metadata": {
        "id": "d3d8gQ2yQO9a"
      },
      "execution_count": null,
      "outputs": []
    },
    {
      "cell_type": "code",
      "source": [
        "sdf.printSchema()"
      ],
      "metadata": {
        "colab": {
          "base_uri": "https://localhost:8080/"
        },
        "id": "Z83zq8SwPiNo",
        "outputId": "140f46a5-0dc8-4b59-8d5f-2592917327c3"
      },
      "execution_count": null,
      "outputs": [
        {
          "output_type": "stream",
          "name": "stdout",
          "text": [
            "root\n",
            " |-- Number: integer (nullable = true)\n",
            " |-- City: string (nullable = true)\n",
            " |-- Gender: string (nullable = true)\n",
            " |-- Age: integer (nullable = true)\n",
            " |-- Income: double (nullable = true)\n",
            " |-- Illness: string (nullable = true)\n",
            " |-- sample: string (nullable = false)\n",
            "\n"
          ]
        }
      ]
    },
    {
      "cell_type": "markdown",
      "source": [
        "#### Intentionally i have made the sample column as string type by giving value as 2022. Now lets convert that into Integer type."
      ],
      "metadata": {
        "id": "mZEIaAzSQfVU"
      }
    },
    {
      "cell_type": "code",
      "source": [
        "sdf.withColumn(\"sample\", col('sample').cast(\"integer\")).printSchema()"
      ],
      "metadata": {
        "colab": {
          "base_uri": "https://localhost:8080/"
        },
        "id": "eTsa795mQHRa",
        "outputId": "3d7d70ea-8e2d-4d20-89b2-457c36edb483"
      },
      "execution_count": null,
      "outputs": [
        {
          "output_type": "stream",
          "name": "stdout",
          "text": [
            "root\n",
            " |-- Number: integer (nullable = true)\n",
            " |-- City: string (nullable = true)\n",
            " |-- Gender: string (nullable = true)\n",
            " |-- Age: integer (nullable = true)\n",
            " |-- Income: double (nullable = true)\n",
            " |-- Illness: string (nullable = true)\n",
            " |-- sample: integer (nullable = true)\n",
            "\n"
          ]
        }
      ]
    },
    {
      "cell_type": "markdown",
      "source": [
        "# Differences in two columns"
      ],
      "metadata": {
        "id": "KPb6PpIkSN1v"
      }
    },
    {
      "cell_type": "code",
      "source": [
        "sampledf = sdf.sample(False,0.2,1234)"
      ],
      "metadata": {
        "id": "h5yU5fFXSXde"
      },
      "execution_count": null,
      "outputs": []
    },
    {
      "cell_type": "code",
      "source": [
        "sampledf.show(5)"
      ],
      "metadata": {
        "colab": {
          "base_uri": "https://localhost:8080/"
        },
        "id": "kVRBsb4dSmo7",
        "outputId": "41df3ad2-8f98-4e11-8336-51ddf5253580"
      },
      "execution_count": null,
      "outputs": [
        {
          "output_type": "stream",
          "name": "stdout",
          "text": [
            "+------+------+------+---+-------+-------+------+\n",
            "|Number|  City|Gender|Age| Income|Illness|sample|\n",
            "+------+------+------+---+-------+-------+------+\n",
            "|    15|Dallas|Female| 61|48429.0|     No|  2022|\n",
            "|    17|Dallas|  Male| 27|60398.0|     No|  2022|\n",
            "|    31|Dallas|Female| 44|50353.0|     No|  2022|\n",
            "|    36|Dallas|  Male| 41|60312.0|     No|  2022|\n",
            "|    38|Dallas|Female| 41|39538.0|     No|  2022|\n",
            "+------+------+------+---+-------+-------+------+\n",
            "only showing top 5 rows\n",
            "\n"
          ]
        }
      ]
    },
    {
      "cell_type": "code",
      "source": [
        "sampledf.count()"
      ],
      "metadata": {
        "colab": {
          "base_uri": "https://localhost:8080/"
        },
        "id": "5SmQZ2FATLRS",
        "outputId": "cebb5857-6d7e-4f33-d4d6-369de78e43e8"
      },
      "execution_count": null,
      "outputs": [
        {
          "output_type": "execute_result",
          "data": {
            "text/plain": [
              "30379"
            ]
          },
          "metadata": {},
          "execution_count": 72
        }
      ]
    },
    {
      "cell_type": "code",
      "source": [
        "sdf.select(\"Number\").subtract(sampledf.select(\"Number\")).count()"
      ],
      "metadata": {
        "colab": {
          "base_uri": "https://localhost:8080/"
        },
        "id": "1L8YMdfyRHRx",
        "outputId": "73bb29e4-9122-453c-9b2e-e84844df1e5b"
      },
      "execution_count": null,
      "outputs": [
        {
          "output_type": "execute_result",
          "data": {
            "text/plain": [
              "119621"
            ]
          },
          "metadata": {},
          "execution_count": 73
        }
      ]
    },
    {
      "cell_type": "code",
      "source": [
        "sdf.select(\"Number\").subtract(sampledf.select(\"Number\")).show(5)"
      ],
      "metadata": {
        "colab": {
          "base_uri": "https://localhost:8080/"
        },
        "id": "KcXvwcYLSxjM",
        "outputId": "76878386-384a-4e88-a6ef-bec10c7e5839"
      },
      "execution_count": null,
      "outputs": [
        {
          "output_type": "stream",
          "name": "stdout",
          "text": [
            "+------+\n",
            "|Number|\n",
            "+------+\n",
            "|   148|\n",
            "|   463|\n",
            "|   471|\n",
            "|   496|\n",
            "|   833|\n",
            "+------+\n",
            "only showing top 5 rows\n",
            "\n"
          ]
        }
      ]
    },
    {
      "cell_type": "markdown",
      "source": [
        "# Pair wise Frequencies - Crosstab"
      ],
      "metadata": {
        "id": "2oHBKXZeT8O6"
      }
    },
    {
      "cell_type": "code",
      "source": [
        "sdf = sdf.drop(\"sample\")"
      ],
      "metadata": {
        "id": "SJohcKbZUCCA"
      },
      "execution_count": null,
      "outputs": []
    },
    {
      "cell_type": "code",
      "source": [
        "sdf.show(5)"
      ],
      "metadata": {
        "colab": {
          "base_uri": "https://localhost:8080/"
        },
        "id": "AGzia_sjTt9f",
        "outputId": "15f6737f-231c-451b-f867-8ec7893fe618"
      },
      "execution_count": null,
      "outputs": [
        {
          "output_type": "stream",
          "name": "stdout",
          "text": [
            "+------+------+------+---+-------+-------+\n",
            "|Number|  City|Gender|Age| Income|Illness|\n",
            "+------+------+------+---+-------+-------+\n",
            "|     1|Dallas|  Male| 41|50367.0|     No|\n",
            "|     2|Dallas|  Male| 54|55084.0|     No|\n",
            "|     3|Dallas|  Male| 42|62483.0|     No|\n",
            "|     4|Dallas|  Male| 40|50941.0|     No|\n",
            "|     5|Dallas|  Male| 46|60289.0|     No|\n",
            "+------+------+------+---+-------+-------+\n",
            "only showing top 5 rows\n",
            "\n"
          ]
        }
      ]
    },
    {
      "cell_type": "code",
      "source": [
        "spark.sql(\"select City,count(*) as cityCount from sdfsql group by City\").show()"
      ],
      "metadata": {
        "colab": {
          "base_uri": "https://localhost:8080/"
        },
        "id": "wjMmuFM3VP8X",
        "outputId": "d68f0ceb-545b-4e38-f7c1-4ccdcc4d55d4"
      },
      "execution_count": null,
      "outputs": [
        {
          "output_type": "stream",
          "name": "stdout",
          "text": [
            "+---------------+---------+\n",
            "|           City|cityCount|\n",
            "+---------------+---------+\n",
            "|         Dallas|    19707|\n",
            "|    Los Angeles|    32173|\n",
            "|      San Diego|     4881|\n",
            "|         Austin|    12292|\n",
            "|  New York City|    50307|\n",
            "|Washington D.C.|     8120|\n",
            "|  Mountain View|    14219|\n",
            "|         Boston|     8301|\n",
            "+---------------+---------+\n",
            "\n"
          ]
        }
      ]
    },
    {
      "cell_type": "code",
      "source": [
        "sdf.crosstab(\"City\",\"Gender\").show()"
      ],
      "metadata": {
        "colab": {
          "base_uri": "https://localhost:8080/"
        },
        "id": "3W3STeYWUKjJ",
        "outputId": "6e0586e9-c3de-47af-f2c7-7ab801bb2b8b"
      },
      "execution_count": null,
      "outputs": [
        {
          "output_type": "stream",
          "name": "stdout",
          "text": [
            "+---------------+------+-----+\n",
            "|    City_Gender|Female| Male|\n",
            "+---------------+------+-----+\n",
            "|         Boston|  3715| 4586|\n",
            "|  Mountain View|  6276| 7943|\n",
            "|      San Diego|  2098| 2783|\n",
            "|    Los Angeles| 14285|17888|\n",
            "|         Austin|  5385| 6907|\n",
            "|  New York City| 22172|28135|\n",
            "|         Dallas|  8705|11002|\n",
            "|Washington D.C.|  3564| 4556|\n",
            "+---------------+------+-----+\n",
            "\n"
          ]
        }
      ]
    },
    {
      "cell_type": "code",
      "source": [
        "sdf.crosstab(\"City\",\"Illness\").show()"
      ],
      "metadata": {
        "colab": {
          "base_uri": "https://localhost:8080/"
        },
        "id": "N662aXoVUefm",
        "outputId": "c5d9fa94-20d9-4c9b-ed70-e969feae8aa2"
      },
      "execution_count": null,
      "outputs": [
        {
          "output_type": "stream",
          "name": "stdout",
          "text": [
            "+---------------+-----+----+\n",
            "|   City_Illness|   No| Yes|\n",
            "+---------------+-----+----+\n",
            "|         Boston| 7615| 686|\n",
            "|  Mountain View|13041|1178|\n",
            "|      San Diego| 4487| 394|\n",
            "|    Los Angeles|29605|2568|\n",
            "|         Austin|11281|1011|\n",
            "|  New York City|46286|4021|\n",
            "|         Dallas|18094|1613|\n",
            "|Washington D.C.| 7452| 668|\n",
            "+---------------+-----+----+\n",
            "\n"
          ]
        }
      ]
    },
    {
      "cell_type": "code",
      "source": [
        "# sdf.groupBy(\"City\",\"Illness\").show() -- error\n",
        "sdf.groupBy(\"City\",\"Illness\").count().show()"
      ],
      "metadata": {
        "colab": {
          "base_uri": "https://localhost:8080/"
        },
        "id": "aeSzMzSrU6y9",
        "outputId": "0cddb0e8-9f33-48f3-e77a-9f25ea6e53a6"
      },
      "execution_count": null,
      "outputs": [
        {
          "output_type": "stream",
          "name": "stdout",
          "text": [
            "+---------------+-------+-----+\n",
            "|           City|Illness|count|\n",
            "+---------------+-------+-----+\n",
            "|      San Diego|     No| 4487|\n",
            "|Washington D.C.|     No| 7452|\n",
            "|         Boston|    Yes|  686|\n",
            "|    Los Angeles|     No|29605|\n",
            "|  Mountain View|     No|13041|\n",
            "|         Dallas|     No|18094|\n",
            "|    Los Angeles|    Yes| 2568|\n",
            "|         Austin|    Yes| 1011|\n",
            "|Washington D.C.|    Yes|  668|\n",
            "|         Austin|     No|11281|\n",
            "|  New York City|     No|46286|\n",
            "|         Dallas|    Yes| 1613|\n",
            "|  New York City|    Yes| 4021|\n",
            "|         Boston|     No| 7615|\n",
            "|  Mountain View|    Yes| 1178|\n",
            "|      San Diego|    Yes|  394|\n",
            "+---------------+-------+-----+\n",
            "\n"
          ]
        }
      ]
    },
    {
      "cell_type": "markdown",
      "source": [
        "# Removing Duplicates"
      ],
      "metadata": {
        "id": "MJMc_uaLXbps"
      }
    },
    {
      "cell_type": "code",
      "source": [
        "# gives all unique rows based on columns specified\n",
        "sdf.select(\"City\",\"Illness\").dropDuplicates().show()"
      ],
      "metadata": {
        "colab": {
          "base_uri": "https://localhost:8080/"
        },
        "id": "CrrgDokJV1ZF",
        "outputId": "2af09bee-23fa-4b06-de7d-d094558dc7ba"
      },
      "execution_count": null,
      "outputs": [
        {
          "output_type": "stream",
          "name": "stdout",
          "text": [
            "+---------------+-------+\n",
            "|           City|Illness|\n",
            "+---------------+-------+\n",
            "|      San Diego|     No|\n",
            "|Washington D.C.|     No|\n",
            "|         Boston|    Yes|\n",
            "|    Los Angeles|     No|\n",
            "|  Mountain View|     No|\n",
            "|         Dallas|     No|\n",
            "|    Los Angeles|    Yes|\n",
            "|         Austin|    Yes|\n",
            "|Washington D.C.|    Yes|\n",
            "|         Austin|     No|\n",
            "|  New York City|     No|\n",
            "|         Dallas|    Yes|\n",
            "|  New York City|    Yes|\n",
            "|         Boston|     No|\n",
            "|  Mountain View|    Yes|\n",
            "|      San Diego|    Yes|\n",
            "+---------------+-------+\n",
            "\n"
          ]
        }
      ]
    },
    {
      "cell_type": "markdown",
      "source": [
        "# Working with Nulls in Data"
      ],
      "metadata": {
        "id": "27KsD9lmX8TL"
      }
    },
    {
      "cell_type": "code",
      "source": [
        "print(sdf.dropna().count())\n",
        "print(sdf.na.drop().count())"
      ],
      "metadata": {
        "colab": {
          "base_uri": "https://localhost:8080/"
        },
        "id": "idoph-hHXtWJ",
        "outputId": "aa513ec7-af4e-44d6-8438-46a9d3903fba"
      },
      "execution_count": null,
      "outputs": [
        {
          "output_type": "stream",
          "name": "stdout",
          "text": [
            "150000\n",
            "150000\n"
          ]
        }
      ]
    },
    {
      "cell_type": "code",
      "source": [
        "sdf.fillna(-1)"
      ],
      "metadata": {
        "colab": {
          "base_uri": "https://localhost:8080/"
        },
        "id": "IBlRYjY5ZkxA",
        "outputId": "0d46461e-6c9e-45ea-e9f5-220a5642e265"
      },
      "execution_count": null,
      "outputs": [
        {
          "output_type": "execute_result",
          "data": {
            "text/plain": [
              "DataFrame[Number: int, City: string, Gender: string, Age: int, Income: double, Illness: string]"
            ]
          },
          "metadata": {},
          "execution_count": 83
        }
      ]
    },
    {
      "cell_type": "code",
      "source": [
        "## Filling with different values for different columns\n",
        "fill_cols_vals = {\n",
        "\"Gender\": 'Male',\n",
        "\"City\" : \"Los Angeles\",\n",
        "\"Age\": 21\n",
        "}\n",
        "sdf.na.fill(fill_cols_vals).count()"
      ],
      "metadata": {
        "colab": {
          "base_uri": "https://localhost:8080/"
        },
        "id": "81iWClmuZaXk",
        "outputId": "8d7e0c7a-bda2-412b-e9cf-4ac17db9daba"
      },
      "execution_count": null,
      "outputs": [
        {
          "output_type": "execute_result",
          "data": {
            "text/plain": [
              "150000"
            ]
          },
          "metadata": {},
          "execution_count": 84
        }
      ]
    },
    {
      "cell_type": "markdown",
      "source": [
        "# Filtering the rows"
      ],
      "metadata": {
        "id": "iN9OAtwVaN-1"
      }
    },
    {
      "cell_type": "code",
      "source": [
        "sdf.filter(col(\"City\")==\"Los Angeles\").count()"
      ],
      "metadata": {
        "colab": {
          "base_uri": "https://localhost:8080/"
        },
        "id": "suJy7wGzZvj2",
        "outputId": "d3e0cf8d-6fc4-4162-bad3-0fad441137b6"
      },
      "execution_count": null,
      "outputs": [
        {
          "output_type": "execute_result",
          "data": {
            "text/plain": [
              "32173"
            ]
          },
          "metadata": {},
          "execution_count": 85
        }
      ]
    },
    {
      "cell_type": "code",
      "source": [
        "sdf.filter(col('Income')>50000).count()"
      ],
      "metadata": {
        "colab": {
          "base_uri": "https://localhost:8080/"
        },
        "id": "B4KXh6x_ae2o",
        "outputId": "a0eae7c2-24dc-41b7-b02f-1d165bbc67a7"
      },
      "execution_count": null,
      "outputs": [
        {
          "output_type": "execute_result",
          "data": {
            "text/plain": [
              "143708"
            ]
          },
          "metadata": {},
          "execution_count": 86
        }
      ]
    },
    {
      "cell_type": "code",
      "source": [
        "spark.sql(\"select count(*) from sdfsql where Income>50000\").show()\n",
        "#Value is change as i have added a 10000 extra for Income column before\n",
        "spark.sql(\"select count(*) from sdfsql where Income>40000\").show()"
      ],
      "metadata": {
        "colab": {
          "base_uri": "https://localhost:8080/"
        },
        "id": "azS2gkqTarNm",
        "outputId": "e39ac01f-8321-4774-d7ee-d46078dc8f18"
      },
      "execution_count": null,
      "outputs": [
        {
          "output_type": "stream",
          "name": "stdout",
          "text": [
            "+--------+\n",
            "|count(1)|\n",
            "+--------+\n",
            "|  136738|\n",
            "+--------+\n",
            "\n",
            "+--------+\n",
            "|count(1)|\n",
            "+--------+\n",
            "|  143708|\n",
            "+--------+\n",
            "\n"
          ]
        }
      ]
    },
    {
      "cell_type": "code",
      "source": [
        "sdf.where(\"City == 'Boston'\").where(\"Illness == 'No'\").count()"
      ],
      "metadata": {
        "colab": {
          "base_uri": "https://localhost:8080/"
        },
        "id": "uy0N11gJa6Pa",
        "outputId": "deca2e0c-b9d5-43d0-a050-2813c8a5f42c"
      },
      "execution_count": null,
      "outputs": [
        {
          "output_type": "execute_result",
          "data": {
            "text/plain": [
              "7615"
            ]
          },
          "metadata": {},
          "execution_count": 88
        }
      ]
    },
    {
      "cell_type": "code",
      "source": [
        "sdf.filter(\"City == 'Boston'\").filter(\"Illness == 'No'\").count()"
      ],
      "metadata": {
        "colab": {
          "base_uri": "https://localhost:8080/"
        },
        "id": "ArK2-zgSbkOi",
        "outputId": "c30e529f-ff64-4d33-de92-939d5d1a758e"
      },
      "execution_count": null,
      "outputs": [
        {
          "output_type": "execute_result",
          "data": {
            "text/plain": [
              "7615"
            ]
          },
          "metadata": {},
          "execution_count": 89
        }
      ]
    },
    {
      "cell_type": "code",
      "source": [
        "sdf.filter((col(\"City\") == 'Boston') & (col(\"Illness\") == 'No')).count()"
      ],
      "metadata": {
        "colab": {
          "base_uri": "https://localhost:8080/"
        },
        "id": "2ESl4Bewb2TS",
        "outputId": "e56f2cf2-3d78-453f-cae7-1de9718a7ff7"
      },
      "execution_count": null,
      "outputs": [
        {
          "output_type": "execute_result",
          "data": {
            "text/plain": [
              "7615"
            ]
          },
          "metadata": {},
          "execution_count": 90
        }
      ]
    },
    {
      "cell_type": "code",
      "source": [
        "sdf.where((col(\"City\")== 'Dallas') & (col('Illness')=='No')).count()"
      ],
      "metadata": {
        "colab": {
          "base_uri": "https://localhost:8080/"
        },
        "id": "wPkE2iVyb6Vk",
        "outputId": "f3aab964-2dee-4afd-e907-540ba67a42a2"
      },
      "execution_count": null,
      "outputs": [
        {
          "output_type": "execute_result",
          "data": {
            "text/plain": [
              "18094"
            ]
          },
          "metadata": {},
          "execution_count": 91
        }
      ]
    },
    {
      "cell_type": "markdown",
      "source": [
        "# Aggregations"
      ],
      "metadata": {
        "id": "IHOgqbLlcjsP"
      }
    },
    {
      "cell_type": "markdown",
      "source": [
        "## Count Distinct"
      ],
      "metadata": {
        "id": "Rqaw0NIrcsi9"
      }
    },
    {
      "cell_type": "code",
      "source": [
        "from pyspark.sql.functions import countDistinct\n",
        "sdf.select(countDistinct(\"City\")).show()"
      ],
      "metadata": {
        "colab": {
          "base_uri": "https://localhost:8080/"
        },
        "id": "ZAUvYO2Xccf3",
        "outputId": "735f6b84-6fd4-4b00-f996-c1754282f141"
      },
      "execution_count": null,
      "outputs": [
        {
          "output_type": "stream",
          "name": "stdout",
          "text": [
            "+--------------------+\n",
            "|count(DISTINCT City)|\n",
            "+--------------------+\n",
            "|                   8|\n",
            "+--------------------+\n",
            "\n"
          ]
        }
      ]
    },
    {
      "cell_type": "markdown",
      "source": [
        "## Approximate Count Distinct"
      ],
      "metadata": {
        "id": "zo6kHry8c-Fo"
      }
    },
    {
      "cell_type": "code",
      "source": [
        "from pyspark.sql.functions import approx_count_distinct\n",
        "sdf.select(approx_count_distinct(\"City\", 0.1)).show()"
      ],
      "metadata": {
        "colab": {
          "base_uri": "https://localhost:8080/"
        },
        "id": "-dTF7_Qic242",
        "outputId": "6c25ff17-ce54-4b39-cc76-233aa6377235"
      },
      "execution_count": null,
      "outputs": [
        {
          "output_type": "stream",
          "name": "stdout",
          "text": [
            "+---------------------------+\n",
            "|approx_count_distinct(City)|\n",
            "+---------------------------+\n",
            "|                          8|\n",
            "+---------------------------+\n",
            "\n"
          ]
        }
      ]
    },
    {
      "cell_type": "markdown",
      "source": [
        "## First and Last"
      ],
      "metadata": {
        "id": "aa_zua5idKwc"
      }
    },
    {
      "cell_type": "code",
      "source": [
        "from pyspark.sql.functions import first, last\n",
        "sdf.select(first(\"City\"), last(\"City\")).show()"
      ],
      "metadata": {
        "colab": {
          "base_uri": "https://localhost:8080/"
        },
        "id": "DLcwJT6mdFA-",
        "outputId": "5fd5679a-6da8-4ee7-b47e-561234454e18"
      },
      "execution_count": null,
      "outputs": [
        {
          "output_type": "stream",
          "name": "stdout",
          "text": [
            "+-----------+----------+\n",
            "|first(City)|last(City)|\n",
            "+-----------+----------+\n",
            "|     Dallas|    Austin|\n",
            "+-----------+----------+\n",
            "\n"
          ]
        }
      ]
    },
    {
      "cell_type": "markdown",
      "source": [
        "## Min and Max"
      ],
      "metadata": {
        "id": "leYbTHxMdZ96"
      }
    },
    {
      "cell_type": "code",
      "source": [
        "from pyspark.sql.functions import min, max\n",
        "sdf.select(min(\"Income\"), max(\"Income\")).show()"
      ],
      "metadata": {
        "colab": {
          "base_uri": "https://localhost:8080/"
        },
        "id": "prgI_zpHdMb-",
        "outputId": "f917c1e4-06b9-4372-98e4-dd3ad174db0b"
      },
      "execution_count": null,
      "outputs": [
        {
          "output_type": "stream",
          "name": "stdout",
          "text": [
            "+-----------+-----------+\n",
            "|min(Income)|max(Income)|\n",
            "+-----------+-----------+\n",
            "|     9346.0|   187157.0|\n",
            "+-----------+-----------+\n",
            "\n"
          ]
        }
      ]
    },
    {
      "cell_type": "markdown",
      "source": [
        "## Sum and Average"
      ],
      "metadata": {
        "id": "JKgm2QrcdpNI"
      }
    },
    {
      "cell_type": "code",
      "source": [
        "from pyspark.sql.functions import sum, avg\n",
        "sdf.select(sum('Income')).show()"
      ],
      "metadata": {
        "colab": {
          "base_uri": "https://localhost:8080/"
        },
        "id": "I19AiThTdhID",
        "outputId": "8dea17aa-88a7-4225-bd55-a61debe939a7"
      },
      "execution_count": null,
      "outputs": [
        {
          "output_type": "stream",
          "name": "stdout",
          "text": [
            "+---------------+\n",
            "|    sum(Income)|\n",
            "+---------------+\n",
            "|1.5187919741E10|\n",
            "+---------------+\n",
            "\n"
          ]
        }
      ]
    },
    {
      "cell_type": "code",
      "source": [
        "sdf.select(expr(\"avg(Income) AS Average_Income\")).show()"
      ],
      "metadata": {
        "colab": {
          "base_uri": "https://localhost:8080/"
        },
        "id": "VuYPjweGdwyr",
        "outputId": "e0f0f7b9-4f2d-4bb6-cdc9-42809c1e7d9c"
      },
      "execution_count": null,
      "outputs": [
        {
          "output_type": "stream",
          "name": "stdout",
          "text": [
            "+------------------+\n",
            "|    Average_Income|\n",
            "+------------------+\n",
            "|101252.79827333333|\n",
            "+------------------+\n",
            "\n"
          ]
        }
      ]
    },
    {
      "cell_type": "markdown",
      "source": [
        "## Grouping with Expressions"
      ],
      "metadata": {
        "id": "jhQpc0vsfImp"
      }
    },
    {
      "cell_type": "code",
      "source": [
        "sdf.groupBy(\"City\").agg(\n",
        "  avg(\"Income\").alias(\"Average income /city\"),\n",
        "  expr(\"count(Income)\")).show(truncate = False)"
      ],
      "metadata": {
        "colab": {
          "base_uri": "https://localhost:8080/"
        },
        "id": "d5kdUM8xehpJ",
        "outputId": "ef20b70e-3479-42e4-e70f-9ba520337b62"
      },
      "execution_count": null,
      "outputs": [
        {
          "output_type": "stream",
          "name": "stdout",
          "text": [
            "+---------------+--------------------+-------------+\n",
            "|City           |Average income /city|count(Income)|\n",
            "+---------------+--------------------+-------------+\n",
            "|Dallas         |55252.23118688791   |19707        |\n",
            "|Los Angeles    |105264.15540981568  |32173        |\n",
            "|San Diego      |110756.20917844704  |4881         |\n",
            "|Austin         |100277.51342336478  |12292        |\n",
            "|New York City  |106857.13139324548  |50307        |\n",
            "|Washington D.C.|80991.61280788177   |8120         |\n",
            "|Mountain View  |145078.41578170055  |14219        |\n",
            "|Boston         |101554.57149740995  |8301         |\n",
            "+---------------+--------------------+-------------+\n",
            "\n"
          ]
        }
      ]
    },
    {
      "cell_type": "code",
      "source": [
        "sdf.groupBy(\"City\").agg(expr(\"avg(Income)\"),expr(\"std(Income)\")).show()"
      ],
      "metadata": {
        "colab": {
          "base_uri": "https://localhost:8080/"
        },
        "id": "sk3Z-8ctfgWV",
        "outputId": "65aeb587-3330-4e67-e29a-26a3ff6d9ce2"
      },
      "execution_count": null,
      "outputs": [
        {
          "output_type": "stream",
          "name": "stdout",
          "text": [
            "+---------------+------------------+------------------+\n",
            "|           City|       avg(Income)|       std(Income)|\n",
            "+---------------+------------------+------------------+\n",
            "|         Dallas| 55252.23118688791|11263.867908523564|\n",
            "|    Los Angeles|105264.15540981568|11187.234579914359|\n",
            "|      San Diego|110756.20917844704|11149.283188322346|\n",
            "|         Austin|100277.51342336478| 10996.63609028483|\n",
            "|  New York City|106857.13139324548|11210.580111095656|\n",
            "|Washington D.C.| 80991.61280788177|11079.854228060589|\n",
            "|  Mountain View|145078.41578170055| 11227.30230415256|\n",
            "|         Boston|101554.57149740995|11216.142107086707|\n",
            "+---------------+------------------+------------------+\n",
            "\n"
          ]
        }
      ]
    },
    {
      "cell_type": "code",
      "source": [
        "sdf.groupBy(\"Gender\").agg(expr(\"min(Income)\"), expr(\"max(Income)\")).show()"
      ],
      "metadata": {
        "colab": {
          "base_uri": "https://localhost:8080/"
        },
        "id": "o2xSPMr3gi5c",
        "outputId": "cea80f46-9bca-401c-9a98-e35aec940584"
      },
      "execution_count": null,
      "outputs": [
        {
          "output_type": "stream",
          "name": "stdout",
          "text": [
            "+------+-----------+-----------+\n",
            "|Gender|min(Income)|max(Income)|\n",
            "+------+-----------+-----------+\n",
            "|Female|     9346.0|   178440.0|\n",
            "|  Male|    22596.0|   187157.0|\n",
            "+------+-----------+-----------+\n",
            "\n"
          ]
        }
      ]
    },
    {
      "cell_type": "code",
      "source": [
        "## Apply sum, min, max, count with groupby to get different summary insight for each group. \n",
        "exprs = {x: \"sum\" for x in sdf.columns}\n",
        "sdf.groupBy(\"City\").agg(exprs).show()"
      ],
      "metadata": {
        "colab": {
          "base_uri": "https://localhost:8080/"
        },
        "id": "MyV63DlngHyV",
        "outputId": "149ea17f-bab3-46f8-8fb8-5568b3d900dc"
      },
      "execution_count": null,
      "outputs": [
        {
          "output_type": "stream",
          "name": "stdout",
          "text": [
            "+---------------+-----------+--------+------------+---------+-----------+-------------+\n",
            "|           City|sum(Number)|sum(Age)|sum(Illness)|sum(City)|sum(Gender)|  sum(Income)|\n",
            "+---------------+-----------+--------+------------+---------+-----------+-------------+\n",
            "|         Dallas|  194192778|  887973|        null|     null|       null| 1.08885572E9|\n",
            "|    Los Angeles| 2770127473| 1447595|        null|     null|       null|3.386663672E9|\n",
            "|      San Diego|  660243108|  219475|        null|     null|       null| 5.40601057E8|\n",
            "|         Austin| 1768259514|  548853|        null|     null|       null|1.232611195E9|\n",
            "|  New York City| 2256822327| 2259897|        null|     null|       null|5.375661709E9|\n",
            "|Washington D.C.| 1045592100|  363798|        null|     null|       null| 6.57651896E8|\n",
            "|  Mountain View| 1554094043|  639752|        null|     null|       null|2.062869994E9|\n",
            "|         Boston| 1000743657|  375187|        null|     null|       null| 8.43004498E8|\n",
            "+---------------+-----------+--------+------------+---------+-----------+-------------+\n",
            "\n"
          ]
        }
      ]
    },
    {
      "cell_type": "markdown",
      "source": [
        "# Joins"
      ],
      "metadata": {
        "id": "ELF1F0mAry2i"
      }
    },
    {
      "cell_type": "code",
      "source": [
        "# Creating a sample dataframe to perform join operation on them\n",
        "cstBasic = spark.createDataFrame([\n",
        "    (112,'Ramesh','heblikar','Male',500,[1,2,3,5]),\n",
        "    (121,'Raghu','singh','Male',650,[2,4,7]),\n",
        "    (125,'Anjali','rao','Male',1200,[8,9,2,1,5,4,7]),\n",
        "    (171,'Raksha','verma','Male',500,[2,3,9,10]),\n",
        "    (82,'Ganesh','singam','Male',750,[1,5,9,7]),\n",
        "    (97,'Vishwas','DK','Male',750,[2,10,9]),\n",
        "    (30,'Manoj','S','Male',750,[2,4,7,9]),\n",
        "    (88,'Chandrika','Mohan','Male',750,[2,4,7,8,10,9]),\n",
        "    (56,'Soorya','Ramakrishna','Male',1000,[2,4,7,1,3,4,5,10,9])])\\\n",
        "    .toDF(\"CustomerID\",'Fname','Lname','Gender','AvgMonthlySpending','Products_Id')\n",
        "\n",
        "products = spark.createDataFrame([\n",
        "    (1,'Shampoo',10),\n",
        "    (2,'T-shirt',45),\n",
        "    (3,'Ginger',7),\n",
        "    (4,'CoolDrinks',5),\n",
        "    (5,'Tamato',10),\n",
        "    (6,'Onion',30),\n",
        "    (7,'Jeans',60),\n",
        "    (8,'Cream',100),\n",
        "    (9,'Trimer',150),\n",
        "    (10,'Phone',500)])\\\n",
        "    .toDF(\"ProductID\",'ProductName','Price')\n",
        "\n",
        "cstInfo = spark.createDataFrame([\n",
        "    (112,'2days',450),\n",
        "    (121,'week ago',200),\n",
        "    (125,'12days',560),\n",
        "    (97,'month ago',560),\n",
        "    (30,'3days',560),\n",
        "    (1,'3days',560),\n",
        "    (3,'3days',560),\n",
        "    (56,'1days',369)])\\\n",
        "    .toDF(\"CustomerID\",\"LastPurchaseOn\",\"TotalBill\")"
      ],
      "metadata": {
        "id": "9SeOUbaDhTY_"
      },
      "execution_count": null,
      "outputs": []
    },
    {
      "cell_type": "code",
      "source": [
        "cstBasic.show()\n",
        "cstBasic.count()"
      ],
      "metadata": {
        "colab": {
          "base_uri": "https://localhost:8080/"
        },
        "id": "CAqfwrmeyGvv",
        "outputId": "b88289fa-fba8-4ed7-b332-3b854c3ba455"
      },
      "execution_count": null,
      "outputs": [
        {
          "output_type": "stream",
          "name": "stdout",
          "text": [
            "+----------+---------+-----------+------+------------------+--------------------+\n",
            "|CustomerID|    Fname|      Lname|Gender|AvgMonthlySpending|         Products_Id|\n",
            "+----------+---------+-----------+------+------------------+--------------------+\n",
            "|       112|   Ramesh|   heblikar|  Male|               500|        [1, 2, 3, 5]|\n",
            "|       121|    Raghu|      singh|  Male|               650|           [2, 4, 7]|\n",
            "|       125|   Anjali|        rao|  Male|              1200|[8, 9, 2, 1, 5, 4...|\n",
            "|       171|   Raksha|      verma|  Male|               500|       [2, 3, 9, 10]|\n",
            "|        82|   Ganesh|     singam|  Male|               750|        [1, 5, 9, 7]|\n",
            "|        97|  Vishwas|         DK|  Male|               750|          [2, 10, 9]|\n",
            "|        30|    Manoj|          S|  Male|               750|        [2, 4, 7, 9]|\n",
            "|        88|Chandrika|      Mohan|  Male|               750| [2, 4, 7, 8, 10, 9]|\n",
            "|        56|   Soorya|Ramakrishna|  Male|              1000|[2, 4, 7, 1, 3, 4...|\n",
            "+----------+---------+-----------+------+------------------+--------------------+\n",
            "\n"
          ]
        },
        {
          "output_type": "execute_result",
          "data": {
            "text/plain": [
              "9"
            ]
          },
          "metadata": {},
          "execution_count": 103
        }
      ]
    },
    {
      "cell_type": "code",
      "source": [
        "products.show()\n",
        "products.count()"
      ],
      "metadata": {
        "colab": {
          "base_uri": "https://localhost:8080/"
        },
        "id": "l9cBTbw9rwjB",
        "outputId": "eaa75e20-2043-4e61-f0c0-568c56eb88ae"
      },
      "execution_count": null,
      "outputs": [
        {
          "output_type": "stream",
          "name": "stdout",
          "text": [
            "+---------+-----------+-----+\n",
            "|ProductID|ProductName|Price|\n",
            "+---------+-----------+-----+\n",
            "|        1|    Shampoo|   10|\n",
            "|        2|    T-shirt|   45|\n",
            "|        3|     Ginger|    7|\n",
            "|        4| CoolDrinks|    5|\n",
            "|        5|     Tamato|   10|\n",
            "|        6|      Onion|   30|\n",
            "|        7|      Jeans|   60|\n",
            "|        8|      Cream|  100|\n",
            "|        9|     Trimer|  150|\n",
            "|       10|      Phone|  500|\n",
            "+---------+-----------+-----+\n",
            "\n"
          ]
        },
        {
          "output_type": "execute_result",
          "data": {
            "text/plain": [
              "10"
            ]
          },
          "metadata": {},
          "execution_count": 104
        }
      ]
    },
    {
      "cell_type": "code",
      "source": [
        "cstInfo.show()\n",
        "cstInfo.count()"
      ],
      "metadata": {
        "colab": {
          "base_uri": "https://localhost:8080/"
        },
        "id": "h4Qw71hQx0jW",
        "outputId": "732e9f76-ce1f-4903-cb76-b951646b8bd8"
      },
      "execution_count": null,
      "outputs": [
        {
          "output_type": "stream",
          "name": "stdout",
          "text": [
            "+----------+--------------+---------+\n",
            "|CustomerID|LastPurchaseOn|TotalBill|\n",
            "+----------+--------------+---------+\n",
            "|       112|         2days|      450|\n",
            "|       121|      week ago|      200|\n",
            "|       125|        12days|      560|\n",
            "|        97|     month ago|      560|\n",
            "|        30|         3days|      560|\n",
            "|         1|         3days|      560|\n",
            "|         3|         3days|      560|\n",
            "|        56|         1days|      369|\n",
            "+----------+--------------+---------+\n",
            "\n"
          ]
        },
        {
          "output_type": "execute_result",
          "data": {
            "text/plain": [
              "8"
            ]
          },
          "metadata": {},
          "execution_count": 105
        }
      ]
    },
    {
      "cell_type": "code",
      "source": [
        "#Creating temperory tables to perform sql queries \n",
        "cstBasic.createOrReplaceTempView(\"cstbasicsql\")\n",
        "products.createOrReplaceTempView(\"productssql\")\n",
        "cstInfo.createOrReplaceTempView(\"cstinfosql\")"
      ],
      "metadata": {
        "id": "F68XYeqnyVYq"
      },
      "execution_count": null,
      "outputs": []
    },
    {
      "cell_type": "markdown",
      "source": [
        "### Performing joins on tables created"
      ],
      "metadata": {
        "id": "8303K4uRzdch"
      }
    },
    {
      "cell_type": "code",
      "source": [
        "cstBasic.join(cstInfo,cstBasic['CustomerID']==cstInfo['CustomerID']).show()"
      ],
      "metadata": {
        "colab": {
          "base_uri": "https://localhost:8080/"
        },
        "id": "J2-sNUL5y_B9",
        "outputId": "c4798ff1-10dd-4cb1-dbf1-979d6f7bd104"
      },
      "execution_count": null,
      "outputs": [
        {
          "output_type": "stream",
          "name": "stdout",
          "text": [
            "+----------+-------+-----------+------+------------------+--------------------+----------+--------------+---------+\n",
            "|CustomerID|  Fname|      Lname|Gender|AvgMonthlySpending|         Products_Id|CustomerID|LastPurchaseOn|TotalBill|\n",
            "+----------+-------+-----------+------+------------------+--------------------+----------+--------------+---------+\n",
            "|       112| Ramesh|   heblikar|  Male|               500|        [1, 2, 3, 5]|       112|         2days|      450|\n",
            "|        56| Soorya|Ramakrishna|  Male|              1000|[2, 4, 7, 1, 3, 4...|        56|         1days|      369|\n",
            "|       125| Anjali|        rao|  Male|              1200|[8, 9, 2, 1, 5, 4...|       125|        12days|      560|\n",
            "|        97|Vishwas|         DK|  Male|               750|          [2, 10, 9]|        97|     month ago|      560|\n",
            "|        30|  Manoj|          S|  Male|               750|        [2, 4, 7, 9]|        30|         3days|      560|\n",
            "|       121|  Raghu|      singh|  Male|               650|           [2, 4, 7]|       121|      week ago|      200|\n",
            "+----------+-------+-----------+------+------------------+--------------------+----------+--------------+---------+\n",
            "\n"
          ]
        }
      ]
    },
    {
      "cell_type": "code",
      "source": [
        "spark.sql(\"select * from cstbasicsql join cstinfosql on cstbasicsql.CustomerID == cstinfosql.CustomerID\").show()"
      ],
      "metadata": {
        "colab": {
          "base_uri": "https://localhost:8080/"
        },
        "id": "1juOZ8afz6W6",
        "outputId": "5c8a7867-622d-4eeb-cd9a-0ed785e081c3"
      },
      "execution_count": null,
      "outputs": [
        {
          "output_type": "stream",
          "name": "stdout",
          "text": [
            "+----------+-------+-----------+------+------------------+--------------------+----------+--------------+---------+\n",
            "|CustomerID|  Fname|      Lname|Gender|AvgMonthlySpending|         Products_Id|CustomerID|LastPurchaseOn|TotalBill|\n",
            "+----------+-------+-----------+------+------------------+--------------------+----------+--------------+---------+\n",
            "|       112| Ramesh|   heblikar|  Male|               500|        [1, 2, 3, 5]|       112|         2days|      450|\n",
            "|        56| Soorya|Ramakrishna|  Male|              1000|[2, 4, 7, 1, 3, 4...|        56|         1days|      369|\n",
            "|       125| Anjali|        rao|  Male|              1200|[8, 9, 2, 1, 5, 4...|       125|        12days|      560|\n",
            "|        97|Vishwas|         DK|  Male|               750|          [2, 10, 9]|        97|     month ago|      560|\n",
            "|        30|  Manoj|          S|  Male|               750|        [2, 4, 7, 9]|        30|         3days|      560|\n",
            "|       121|  Raghu|      singh|  Male|               650|           [2, 4, 7]|       121|      week ago|      200|\n",
            "+----------+-------+-----------+------+------------------+--------------------+----------+--------------+---------+\n",
            "\n"
          ]
        }
      ]
    },
    {
      "cell_type": "code",
      "source": [
        "cstBasic.join(cstInfo, cstBasic['CustomerID'] == cstInfo['CustomerID'], \"inner\").show()"
      ],
      "metadata": {
        "colab": {
          "base_uri": "https://localhost:8080/"
        },
        "id": "7ruJkjl_0fmW",
        "outputId": "6cecf5e0-adca-4595-dd10-c7657afc465a"
      },
      "execution_count": null,
      "outputs": [
        {
          "output_type": "stream",
          "name": "stdout",
          "text": [
            "+----------+-------+-----------+------+------------------+--------------------+----------+--------------+---------+\n",
            "|CustomerID|  Fname|      Lname|Gender|AvgMonthlySpending|         Products_Id|CustomerID|LastPurchaseOn|TotalBill|\n",
            "+----------+-------+-----------+------+------------------+--------------------+----------+--------------+---------+\n",
            "|       112| Ramesh|   heblikar|  Male|               500|        [1, 2, 3, 5]|       112|         2days|      450|\n",
            "|        56| Soorya|Ramakrishna|  Male|              1000|[2, 4, 7, 1, 3, 4...|        56|         1days|      369|\n",
            "|       125| Anjali|        rao|  Male|              1200|[8, 9, 2, 1, 5, 4...|       125|        12days|      560|\n",
            "|        97|Vishwas|         DK|  Male|               750|          [2, 10, 9]|        97|     month ago|      560|\n",
            "|        30|  Manoj|          S|  Male|               750|        [2, 4, 7, 9]|        30|         3days|      560|\n",
            "|       121|  Raghu|      singh|  Male|               650|           [2, 4, 7]|       121|      week ago|      200|\n",
            "+----------+-------+-----------+------+------------------+--------------------+----------+--------------+---------+\n",
            "\n"
          ]
        }
      ]
    },
    {
      "cell_type": "code",
      "source": [
        "#to drop column while joining itself\n",
        "cstBasic.join(cstInfo, on=cstBasic['CustomerID'] == cstInfo['CustomerID']).drop(cstInfo['CustomerID']).show()"
      ],
      "metadata": {
        "colab": {
          "base_uri": "https://localhost:8080/"
        },
        "id": "-hu27jMd0w6W",
        "outputId": "04c3d085-6409-4e11-d7a2-5bbd80b80e03"
      },
      "execution_count": null,
      "outputs": [
        {
          "output_type": "stream",
          "name": "stdout",
          "text": [
            "+----------+-------+-----------+------+------------------+--------------------+--------------+---------+\n",
            "|CustomerID|  Fname|      Lname|Gender|AvgMonthlySpending|         Products_Id|LastPurchaseOn|TotalBill|\n",
            "+----------+-------+-----------+------+------------------+--------------------+--------------+---------+\n",
            "|       112| Ramesh|   heblikar|  Male|               500|        [1, 2, 3, 5]|         2days|      450|\n",
            "|        56| Soorya|Ramakrishna|  Male|              1000|[2, 4, 7, 1, 3, 4...|         1days|      369|\n",
            "|       125| Anjali|        rao|  Male|              1200|[8, 9, 2, 1, 5, 4...|        12days|      560|\n",
            "|        97|Vishwas|         DK|  Male|               750|          [2, 10, 9]|     month ago|      560|\n",
            "|        30|  Manoj|          S|  Male|               750|        [2, 4, 7, 9]|         3days|      560|\n",
            "|       121|  Raghu|      singh|  Male|               650|           [2, 4, 7]|      week ago|      200|\n",
            "+----------+-------+-----------+------+------------------+--------------------+--------------+---------+\n",
            "\n"
          ]
        }
      ]
    },
    {
      "cell_type": "code",
      "source": [
        "#outer Joins\n",
        "cstBasic.join(cstInfo,(cstBasic['CustomerID'] == cstInfo['CustomerID']), \"outer\").drop(cstInfo['CustomerID']).show(truncate=False)"
      ],
      "metadata": {
        "colab": {
          "base_uri": "https://localhost:8080/"
        },
        "id": "tNXmS1U52mS0",
        "outputId": "e758f9fe-bf7e-4fc9-e03f-0983ae77d0f3"
      },
      "execution_count": null,
      "outputs": [
        {
          "output_type": "stream",
          "name": "stdout",
          "text": [
            "+----------+---------+-----------+------+------------------+----------------------------+--------------+---------+\n",
            "|CustomerID|Fname    |Lname      |Gender|AvgMonthlySpending|Products_Id                 |LastPurchaseOn|TotalBill|\n",
            "+----------+---------+-----------+------+------------------+----------------------------+--------------+---------+\n",
            "|112       |Ramesh   |heblikar   |Male  |500               |[1, 2, 3, 5]                |2days         |450      |\n",
            "|56        |Soorya   |Ramakrishna|Male  |1000              |[2, 4, 7, 1, 3, 4, 5, 10, 9]|1days         |369      |\n",
            "|88        |Chandrika|Mohan      |Male  |750               |[2, 4, 7, 8, 10, 9]         |null          |null     |\n",
            "|null      |null     |null       |null  |null              |null                        |3days         |560      |\n",
            "|null      |null     |null       |null  |null              |null                        |3days         |560      |\n",
            "|171       |Raksha   |verma      |Male  |500               |[2, 3, 9, 10]               |null          |null     |\n",
            "|125       |Anjali   |rao        |Male  |1200              |[8, 9, 2, 1, 5, 4, 7]       |12days        |560      |\n",
            "|82        |Ganesh   |singam     |Male  |750               |[1, 5, 9, 7]                |null          |null     |\n",
            "|97        |Vishwas  |DK         |Male  |750               |[2, 10, 9]                  |month ago     |560      |\n",
            "|30        |Manoj    |S          |Male  |750               |[2, 4, 7, 9]                |3days         |560      |\n",
            "|121       |Raghu    |singh      |Male  |650               |[2, 4, 7]                   |week ago      |200      |\n",
            "+----------+---------+-----------+------+------------------+----------------------------+--------------+---------+\n",
            "\n"
          ]
        }
      ]
    },
    {
      "cell_type": "code",
      "source": [
        "spark.sql(\"select * from cstbasicsql full outer join cstinfosql on cstbasicsql.CustomerID == cstinfosql.CustomerID\").show()\n",
        "spark.sql(\"select * from cstbasicsql full outer join cstinfosql on cstbasicsql.CustomerID == cstinfosql.CustomerID\").count()"
      ],
      "metadata": {
        "colab": {
          "base_uri": "https://localhost:8080/"
        },
        "id": "XE6_I_xL3fZS",
        "outputId": "45a85f57-1b47-41dc-9c56-15f6d2d07e02"
      },
      "execution_count": null,
      "outputs": [
        {
          "output_type": "stream",
          "name": "stdout",
          "text": [
            "+----------+---------+-----------+------+------------------+--------------------+----------+--------------+---------+\n",
            "|CustomerID|    Fname|      Lname|Gender|AvgMonthlySpending|         Products_Id|CustomerID|LastPurchaseOn|TotalBill|\n",
            "+----------+---------+-----------+------+------------------+--------------------+----------+--------------+---------+\n",
            "|       112|   Ramesh|   heblikar|  Male|               500|        [1, 2, 3, 5]|       112|         2days|      450|\n",
            "|        56|   Soorya|Ramakrishna|  Male|              1000|[2, 4, 7, 1, 3, 4...|        56|         1days|      369|\n",
            "|        88|Chandrika|      Mohan|  Male|               750| [2, 4, 7, 8, 10, 9]|      null|          null|     null|\n",
            "|      null|     null|       null|  null|              null|                null|         1|         3days|      560|\n",
            "|      null|     null|       null|  null|              null|                null|         3|         3days|      560|\n",
            "|       171|   Raksha|      verma|  Male|               500|       [2, 3, 9, 10]|      null|          null|     null|\n",
            "|       125|   Anjali|        rao|  Male|              1200|[8, 9, 2, 1, 5, 4...|       125|        12days|      560|\n",
            "|        82|   Ganesh|     singam|  Male|               750|        [1, 5, 9, 7]|      null|          null|     null|\n",
            "|        97|  Vishwas|         DK|  Male|               750|          [2, 10, 9]|        97|     month ago|      560|\n",
            "|        30|    Manoj|          S|  Male|               750|        [2, 4, 7, 9]|        30|         3days|      560|\n",
            "|       121|    Raghu|      singh|  Male|               650|           [2, 4, 7]|       121|      week ago|      200|\n",
            "+----------+---------+-----------+------+------------------+--------------------+----------+--------------+---------+\n",
            "\n"
          ]
        },
        {
          "output_type": "execute_result",
          "data": {
            "text/plain": [
              "11"
            ]
          },
          "metadata": {},
          "execution_count": 112
        }
      ]
    },
    {
      "cell_type": "code",
      "source": [
        "cstBasic.join(cstInfo,(cstBasic['CustomerID'] == cstInfo['CustomerID']), \"left_outer\").drop(cstInfo['CustomerID']).show(truncate=False)\n",
        "cstBasic.join(cstInfo,(cstBasic['CustomerID'] == cstInfo['CustomerID']), \"left_outer\").drop(cstInfo['CustomerID']).count()"
      ],
      "metadata": {
        "colab": {
          "base_uri": "https://localhost:8080/"
        },
        "id": "UtK07LY25nBP",
        "outputId": "0137b0c0-6687-4d6a-d2ab-1b56b835b486"
      },
      "execution_count": null,
      "outputs": [
        {
          "output_type": "stream",
          "name": "stdout",
          "text": [
            "+----------+---------+-----------+------+------------------+----------------------------+--------------+---------+\n",
            "|CustomerID|Fname    |Lname      |Gender|AvgMonthlySpending|Products_Id                 |LastPurchaseOn|TotalBill|\n",
            "+----------+---------+-----------+------+------------------+----------------------------+--------------+---------+\n",
            "|112       |Ramesh   |heblikar   |Male  |500               |[1, 2, 3, 5]                |2days         |450      |\n",
            "|56        |Soorya   |Ramakrishna|Male  |1000              |[2, 4, 7, 1, 3, 4, 5, 10, 9]|1days         |369      |\n",
            "|88        |Chandrika|Mohan      |Male  |750               |[2, 4, 7, 8, 10, 9]         |null          |null     |\n",
            "|171       |Raksha   |verma      |Male  |500               |[2, 3, 9, 10]               |null          |null     |\n",
            "|125       |Anjali   |rao        |Male  |1200              |[8, 9, 2, 1, 5, 4, 7]       |12days        |560      |\n",
            "|82        |Ganesh   |singam     |Male  |750               |[1, 5, 9, 7]                |null          |null     |\n",
            "|97        |Vishwas  |DK         |Male  |750               |[2, 10, 9]                  |month ago     |560      |\n",
            "|30        |Manoj    |S          |Male  |750               |[2, 4, 7, 9]                |3days         |560      |\n",
            "|121       |Raghu    |singh      |Male  |650               |[2, 4, 7]                   |week ago      |200      |\n",
            "+----------+---------+-----------+------+------------------+----------------------------+--------------+---------+\n",
            "\n"
          ]
        },
        {
          "output_type": "execute_result",
          "data": {
            "text/plain": [
              "9"
            ]
          },
          "metadata": {},
          "execution_count": 113
        }
      ]
    },
    {
      "cell_type": "code",
      "source": [
        "cstBasic.join(cstInfo,(cstBasic['CustomerID'] == cstInfo['CustomerID']), \"right_outer\").drop(cstInfo['CustomerID']).show(truncate=False)\n",
        "cstBasic.join(cstInfo,(cstBasic['CustomerID'] == cstInfo['CustomerID']), \"right_outer\").drop(cstInfo['CustomerID']).count()"
      ],
      "metadata": {
        "colab": {
          "base_uri": "https://localhost:8080/"
        },
        "id": "FO_-6Wgt7ijd",
        "outputId": "7ea66a48-cc9f-4128-d979-a8937278c6cf"
      },
      "execution_count": null,
      "outputs": [
        {
          "output_type": "stream",
          "name": "stdout",
          "text": [
            "+----------+-------+-----------+------+------------------+----------------------------+--------------+---------+\n",
            "|CustomerID|Fname  |Lname      |Gender|AvgMonthlySpending|Products_Id                 |LastPurchaseOn|TotalBill|\n",
            "+----------+-------+-----------+------+------------------+----------------------------+--------------+---------+\n",
            "|112       |Ramesh |heblikar   |Male  |500               |[1, 2, 3, 5]                |2days         |450      |\n",
            "|56        |Soorya |Ramakrishna|Male  |1000              |[2, 4, 7, 1, 3, 4, 5, 10, 9]|1days         |369      |\n",
            "|null      |null   |null       |null  |null              |null                        |3days         |560      |\n",
            "|null      |null   |null       |null  |null              |null                        |3days         |560      |\n",
            "|125       |Anjali |rao        |Male  |1200              |[8, 9, 2, 1, 5, 4, 7]       |12days        |560      |\n",
            "|97        |Vishwas|DK         |Male  |750               |[2, 10, 9]                  |month ago     |560      |\n",
            "|30        |Manoj  |S          |Male  |750               |[2, 4, 7, 9]                |3days         |560      |\n",
            "|121       |Raghu  |singh      |Male  |650               |[2, 4, 7]                   |week ago      |200      |\n",
            "+----------+-------+-----------+------+------------------+----------------------------+--------------+---------+\n",
            "\n"
          ]
        },
        {
          "output_type": "execute_result",
          "data": {
            "text/plain": [
              "8"
            ]
          },
          "metadata": {},
          "execution_count": 114
        }
      ]
    },
    {
      "cell_type": "markdown",
      "source": [
        "## Natural Joins"
      ],
      "metadata": {
        "id": "thKmTRzs8xph"
      }
    },
    {
      "cell_type": "code",
      "source": [
        "spark.sql(\"select * from cstbasicsql natural join cstinfosql\").show()"
      ],
      "metadata": {
        "colab": {
          "base_uri": "https://localhost:8080/"
        },
        "id": "QKdROxbb740m",
        "outputId": "b323e91a-cef0-4f93-c2ef-1e2aa6b1b66f"
      },
      "execution_count": null,
      "outputs": [
        {
          "output_type": "stream",
          "name": "stdout",
          "text": [
            "+----------+-------+-----------+------+------------------+--------------------+--------------+---------+\n",
            "|CustomerID|  Fname|      Lname|Gender|AvgMonthlySpending|         Products_Id|LastPurchaseOn|TotalBill|\n",
            "+----------+-------+-----------+------+------------------+--------------------+--------------+---------+\n",
            "|       112| Ramesh|   heblikar|  Male|               500|        [1, 2, 3, 5]|         2days|      450|\n",
            "|        56| Soorya|Ramakrishna|  Male|              1000|[2, 4, 7, 1, 3, 4...|         1days|      369|\n",
            "|       125| Anjali|        rao|  Male|              1200|[8, 9, 2, 1, 5, 4...|        12days|      560|\n",
            "|        97|Vishwas|         DK|  Male|               750|          [2, 10, 9]|     month ago|      560|\n",
            "|        30|  Manoj|          S|  Male|               750|        [2, 4, 7, 9]|         3days|      560|\n",
            "|       121|  Raghu|      singh|  Male|               650|           [2, 4, 7]|      week ago|      200|\n",
            "+----------+-------+-----------+------+------------------+--------------------+--------------+---------+\n",
            "\n"
          ]
        }
      ]
    },
    {
      "cell_type": "markdown",
      "source": [
        "## Cross (Cartesian) Joins"
      ],
      "metadata": {
        "id": "hFa3auwP_w7P"
      }
    },
    {
      "cell_type": "code",
      "source": [
        "cstBasic.join(cstInfo,(cstBasic['CustomerID'] == cstInfo['CustomerID']), \"cross\").drop(cstInfo['CustomerID']).show(truncate=False)\n",
        "cstBasic.join(cstInfo,(cstBasic['CustomerID'] == cstInfo['CustomerID']), \"cross\").drop(cstInfo['CustomerID']).count()"
      ],
      "metadata": {
        "colab": {
          "base_uri": "https://localhost:8080/"
        },
        "id": "ZxjRg-C0_uHj",
        "outputId": "7a6f5fa9-35df-4a69-c017-8166ef5376d9"
      },
      "execution_count": null,
      "outputs": [
        {
          "output_type": "stream",
          "name": "stdout",
          "text": [
            "+----------+-------+-----------+------+------------------+----------------------------+--------------+---------+\n",
            "|CustomerID|Fname  |Lname      |Gender|AvgMonthlySpending|Products_Id                 |LastPurchaseOn|TotalBill|\n",
            "+----------+-------+-----------+------+------------------+----------------------------+--------------+---------+\n",
            "|112       |Ramesh |heblikar   |Male  |500               |[1, 2, 3, 5]                |2days         |450      |\n",
            "|56        |Soorya |Ramakrishna|Male  |1000              |[2, 4, 7, 1, 3, 4, 5, 10, 9]|1days         |369      |\n",
            "|125       |Anjali |rao        |Male  |1200              |[8, 9, 2, 1, 5, 4, 7]       |12days        |560      |\n",
            "|97        |Vishwas|DK         |Male  |750               |[2, 10, 9]                  |month ago     |560      |\n",
            "|30        |Manoj  |S          |Male  |750               |[2, 4, 7, 9]                |3days         |560      |\n",
            "|121       |Raghu  |singh      |Male  |650               |[2, 4, 7]                   |week ago      |200      |\n",
            "+----------+-------+-----------+------+------------------+----------------------------+--------------+---------+\n",
            "\n"
          ]
        },
        {
          "output_type": "execute_result",
          "data": {
            "text/plain": [
              "6"
            ]
          },
          "metadata": {},
          "execution_count": 116
        }
      ]
    },
    {
      "cell_type": "code",
      "source": [
        "spark.sql(\"select * from cstbasicsql cross join cstinfosql on cstbasicsql.CustomerID == cstinfosql.CustomerID\").show()"
      ],
      "metadata": {
        "colab": {
          "base_uri": "https://localhost:8080/"
        },
        "id": "gd9hCoO5_7ZF",
        "outputId": "7ca0f323-90b2-4b51-dca2-06f764a6b3d4"
      },
      "execution_count": null,
      "outputs": [
        {
          "output_type": "stream",
          "name": "stdout",
          "text": [
            "+----------+-------+-----------+------+------------------+--------------------+----------+--------------+---------+\n",
            "|CustomerID|  Fname|      Lname|Gender|AvgMonthlySpending|         Products_Id|CustomerID|LastPurchaseOn|TotalBill|\n",
            "+----------+-------+-----------+------+------------------+--------------------+----------+--------------+---------+\n",
            "|       112| Ramesh|   heblikar|  Male|               500|        [1, 2, 3, 5]|       112|         2days|      450|\n",
            "|        56| Soorya|Ramakrishna|  Male|              1000|[2, 4, 7, 1, 3, 4...|        56|         1days|      369|\n",
            "|       125| Anjali|        rao|  Male|              1200|[8, 9, 2, 1, 5, 4...|       125|        12days|      560|\n",
            "|        97|Vishwas|         DK|  Male|               750|          [2, 10, 9]|        97|     month ago|      560|\n",
            "|        30|  Manoj|          S|  Male|               750|        [2, 4, 7, 9]|        30|         3days|      560|\n",
            "|       121|  Raghu|      singh|  Male|               650|           [2, 4, 7]|       121|      week ago|      200|\n",
            "+----------+-------+-----------+------+------------------+--------------------+----------+--------------+---------+\n",
            "\n"
          ]
        }
      ]
    },
    {
      "cell_type": "code",
      "source": [
        "#cross joins work when there is no condition given while joining \n",
        "cstBasic.crossJoin(cstInfo).show()\n",
        "cstBasic.crossJoin(cstInfo).count()"
      ],
      "metadata": {
        "colab": {
          "base_uri": "https://localhost:8080/"
        },
        "id": "LzZ49myRAHpj",
        "outputId": "25b8b255-3bf3-48dc-d0a1-b6e11a7ecee4"
      },
      "execution_count": null,
      "outputs": [
        {
          "output_type": "stream",
          "name": "stdout",
          "text": [
            "+----------+------+--------+------+------------------+--------------------+----------+--------------+---------+\n",
            "|CustomerID| Fname|   Lname|Gender|AvgMonthlySpending|         Products_Id|CustomerID|LastPurchaseOn|TotalBill|\n",
            "+----------+------+--------+------+------------------+--------------------+----------+--------------+---------+\n",
            "|       112|Ramesh|heblikar|  Male|               500|        [1, 2, 3, 5]|       112|         2days|      450|\n",
            "|       112|Ramesh|heblikar|  Male|               500|        [1, 2, 3, 5]|       121|      week ago|      200|\n",
            "|       112|Ramesh|heblikar|  Male|               500|        [1, 2, 3, 5]|       125|        12days|      560|\n",
            "|       112|Ramesh|heblikar|  Male|               500|        [1, 2, 3, 5]|        97|     month ago|      560|\n",
            "|       121| Raghu|   singh|  Male|               650|           [2, 4, 7]|       112|         2days|      450|\n",
            "|       121| Raghu|   singh|  Male|               650|           [2, 4, 7]|       121|      week ago|      200|\n",
            "|       121| Raghu|   singh|  Male|               650|           [2, 4, 7]|       125|        12days|      560|\n",
            "|       121| Raghu|   singh|  Male|               650|           [2, 4, 7]|        97|     month ago|      560|\n",
            "|       125|Anjali|     rao|  Male|              1200|[8, 9, 2, 1, 5, 4...|       112|         2days|      450|\n",
            "|       125|Anjali|     rao|  Male|              1200|[8, 9, 2, 1, 5, 4...|       121|      week ago|      200|\n",
            "|       125|Anjali|     rao|  Male|              1200|[8, 9, 2, 1, 5, 4...|       125|        12days|      560|\n",
            "|       125|Anjali|     rao|  Male|              1200|[8, 9, 2, 1, 5, 4...|        97|     month ago|      560|\n",
            "|       171|Raksha|   verma|  Male|               500|       [2, 3, 9, 10]|       112|         2days|      450|\n",
            "|       171|Raksha|   verma|  Male|               500|       [2, 3, 9, 10]|       121|      week ago|      200|\n",
            "|       171|Raksha|   verma|  Male|               500|       [2, 3, 9, 10]|       125|        12days|      560|\n",
            "|       171|Raksha|   verma|  Male|               500|       [2, 3, 9, 10]|        97|     month ago|      560|\n",
            "|       112|Ramesh|heblikar|  Male|               500|        [1, 2, 3, 5]|        30|         3days|      560|\n",
            "|       112|Ramesh|heblikar|  Male|               500|        [1, 2, 3, 5]|         1|         3days|      560|\n",
            "|       112|Ramesh|heblikar|  Male|               500|        [1, 2, 3, 5]|         3|         3days|      560|\n",
            "|       112|Ramesh|heblikar|  Male|               500|        [1, 2, 3, 5]|        56|         1days|      369|\n",
            "+----------+------+--------+------+------------------+--------------------+----------+--------------+---------+\n",
            "only showing top 20 rows\n",
            "\n"
          ]
        },
        {
          "output_type": "execute_result",
          "data": {
            "text/plain": [
              "72"
            ]
          },
          "metadata": {},
          "execution_count": 118
        }
      ]
    },
    {
      "cell_type": "code",
      "source": [
        "spark.sql(\"select * from cstbasicsql cross join cstinfosql\").show()"
      ],
      "metadata": {
        "colab": {
          "base_uri": "https://localhost:8080/"
        },
        "id": "hLHuGCB_ARQa",
        "outputId": "6294e871-6c2c-44d2-bb1b-730d92a335a6"
      },
      "execution_count": null,
      "outputs": [
        {
          "output_type": "stream",
          "name": "stdout",
          "text": [
            "+----------+------+--------+------+------------------+--------------------+----------+--------------+---------+\n",
            "|CustomerID| Fname|   Lname|Gender|AvgMonthlySpending|         Products_Id|CustomerID|LastPurchaseOn|TotalBill|\n",
            "+----------+------+--------+------+------------------+--------------------+----------+--------------+---------+\n",
            "|       112|Ramesh|heblikar|  Male|               500|        [1, 2, 3, 5]|       112|         2days|      450|\n",
            "|       112|Ramesh|heblikar|  Male|               500|        [1, 2, 3, 5]|       121|      week ago|      200|\n",
            "|       112|Ramesh|heblikar|  Male|               500|        [1, 2, 3, 5]|       125|        12days|      560|\n",
            "|       112|Ramesh|heblikar|  Male|               500|        [1, 2, 3, 5]|        97|     month ago|      560|\n",
            "|       121| Raghu|   singh|  Male|               650|           [2, 4, 7]|       112|         2days|      450|\n",
            "|       121| Raghu|   singh|  Male|               650|           [2, 4, 7]|       121|      week ago|      200|\n",
            "|       121| Raghu|   singh|  Male|               650|           [2, 4, 7]|       125|        12days|      560|\n",
            "|       121| Raghu|   singh|  Male|               650|           [2, 4, 7]|        97|     month ago|      560|\n",
            "|       125|Anjali|     rao|  Male|              1200|[8, 9, 2, 1, 5, 4...|       112|         2days|      450|\n",
            "|       125|Anjali|     rao|  Male|              1200|[8, 9, 2, 1, 5, 4...|       121|      week ago|      200|\n",
            "|       125|Anjali|     rao|  Male|              1200|[8, 9, 2, 1, 5, 4...|       125|        12days|      560|\n",
            "|       125|Anjali|     rao|  Male|              1200|[8, 9, 2, 1, 5, 4...|        97|     month ago|      560|\n",
            "|       171|Raksha|   verma|  Male|               500|       [2, 3, 9, 10]|       112|         2days|      450|\n",
            "|       171|Raksha|   verma|  Male|               500|       [2, 3, 9, 10]|       121|      week ago|      200|\n",
            "|       171|Raksha|   verma|  Male|               500|       [2, 3, 9, 10]|       125|        12days|      560|\n",
            "|       171|Raksha|   verma|  Male|               500|       [2, 3, 9, 10]|        97|     month ago|      560|\n",
            "|       112|Ramesh|heblikar|  Male|               500|        [1, 2, 3, 5]|        30|         3days|      560|\n",
            "|       112|Ramesh|heblikar|  Male|               500|        [1, 2, 3, 5]|         1|         3days|      560|\n",
            "|       112|Ramesh|heblikar|  Male|               500|        [1, 2, 3, 5]|         3|         3days|      560|\n",
            "|       112|Ramesh|heblikar|  Male|               500|        [1, 2, 3, 5]|        56|         1days|      369|\n",
            "+----------+------+--------+------+------------------+--------------------+----------+--------------+---------+\n",
            "only showing top 20 rows\n",
            "\n"
          ]
        }
      ]
    },
    {
      "cell_type": "markdown",
      "source": [
        "## Joins on Complex Types"
      ],
      "metadata": {
        "id": "zf3hwOqKBIy3"
      }
    },
    {
      "cell_type": "code",
      "source": [
        "products.show()"
      ],
      "metadata": {
        "colab": {
          "base_uri": "https://localhost:8080/"
        },
        "id": "OZNGIxiBEtn-",
        "outputId": "4ec7ab9c-c4fc-4b12-89fd-83aa12af83e1"
      },
      "execution_count": null,
      "outputs": [
        {
          "output_type": "stream",
          "name": "stdout",
          "text": [
            "+---------+-----------+-----+\n",
            "|ProductID|ProductName|Price|\n",
            "+---------+-----------+-----+\n",
            "|        1|    Shampoo|   10|\n",
            "|        2|    T-shirt|   45|\n",
            "|        3|     Ginger|    7|\n",
            "|        4| CoolDrinks|    5|\n",
            "|        5|     Tamato|   10|\n",
            "|        6|      Onion|   30|\n",
            "|        7|      Jeans|   60|\n",
            "|        8|      Cream|  100|\n",
            "|        9|     Trimer|  150|\n",
            "|       10|      Phone|  500|\n",
            "+---------+-----------+-----+\n",
            "\n"
          ]
        }
      ]
    },
    {
      "cell_type": "code",
      "source": [
        "cstBasic.join(products, expr(\"array_contains(Products_Id, ProductID)\")).show(truncate = False)"
      ],
      "metadata": {
        "colab": {
          "base_uri": "https://localhost:8080/"
        },
        "id": "bYOmvArfA_0q",
        "outputId": "89258ad8-876c-4f4f-fa20-d43f8136fb54"
      },
      "execution_count": null,
      "outputs": [
        {
          "output_type": "stream",
          "name": "stdout",
          "text": [
            "+----------+------+--------+------+------------------+---------------------+---------+-----------+-----+\n",
            "|CustomerID|Fname |Lname   |Gender|AvgMonthlySpending|Products_Id          |ProductID|ProductName|Price|\n",
            "+----------+------+--------+------+------------------+---------------------+---------+-----------+-----+\n",
            "|112       |Ramesh|heblikar|Male  |500               |[1, 2, 3, 5]         |1        |Shampoo    |10   |\n",
            "|112       |Ramesh|heblikar|Male  |500               |[1, 2, 3, 5]         |2        |T-shirt    |45   |\n",
            "|112       |Ramesh|heblikar|Male  |500               |[1, 2, 3, 5]         |3        |Ginger     |7    |\n",
            "|112       |Ramesh|heblikar|Male  |500               |[1, 2, 3, 5]         |5        |Tamato     |10   |\n",
            "|121       |Raghu |singh   |Male  |650               |[2, 4, 7]            |2        |T-shirt    |45   |\n",
            "|121       |Raghu |singh   |Male  |650               |[2, 4, 7]            |4        |CoolDrinks |5    |\n",
            "|125       |Anjali|rao     |Male  |1200              |[8, 9, 2, 1, 5, 4, 7]|1        |Shampoo    |10   |\n",
            "|125       |Anjali|rao     |Male  |1200              |[8, 9, 2, 1, 5, 4, 7]|2        |T-shirt    |45   |\n",
            "|125       |Anjali|rao     |Male  |1200              |[8, 9, 2, 1, 5, 4, 7]|4        |CoolDrinks |5    |\n",
            "|125       |Anjali|rao     |Male  |1200              |[8, 9, 2, 1, 5, 4, 7]|5        |Tamato     |10   |\n",
            "|171       |Raksha|verma   |Male  |500               |[2, 3, 9, 10]        |2        |T-shirt    |45   |\n",
            "|171       |Raksha|verma   |Male  |500               |[2, 3, 9, 10]        |3        |Ginger     |7    |\n",
            "|121       |Raghu |singh   |Male  |650               |[2, 4, 7]            |7        |Jeans      |60   |\n",
            "|125       |Anjali|rao     |Male  |1200              |[8, 9, 2, 1, 5, 4, 7]|7        |Jeans      |60   |\n",
            "|125       |Anjali|rao     |Male  |1200              |[8, 9, 2, 1, 5, 4, 7]|8        |Cream      |100  |\n",
            "|125       |Anjali|rao     |Male  |1200              |[8, 9, 2, 1, 5, 4, 7]|9        |Trimer     |150  |\n",
            "|171       |Raksha|verma   |Male  |500               |[2, 3, 9, 10]        |9        |Trimer     |150  |\n",
            "|171       |Raksha|verma   |Male  |500               |[2, 3, 9, 10]        |10       |Phone      |500  |\n",
            "|82        |Ganesh|singam  |Male  |750               |[1, 5, 9, 7]         |1        |Shampoo    |10   |\n",
            "|82        |Ganesh|singam  |Male  |750               |[1, 5, 9, 7]         |5        |Tamato     |10   |\n",
            "+----------+------+--------+------+------------------+---------------------+---------+-----------+-----+\n",
            "only showing top 20 rows\n",
            "\n"
          ]
        }
      ]
    },
    {
      "cell_type": "code",
      "source": [
        "spark.sql(\"select * from cstbasicsql outer join productssql on array_contains(Products_Id, ProductID)\").show()"
      ],
      "metadata": {
        "colab": {
          "base_uri": "https://localhost:8080/"
        },
        "id": "bcH4aKPXE8My",
        "outputId": "39fa2996-a61e-493c-c8f7-0aa1830ced24"
      },
      "execution_count": null,
      "outputs": [
        {
          "output_type": "stream",
          "name": "stdout",
          "text": [
            "+----------+------+--------+------+------------------+--------------------+---------+-----------+-----+\n",
            "|CustomerID| Fname|   Lname|Gender|AvgMonthlySpending|         Products_Id|ProductID|ProductName|Price|\n",
            "+----------+------+--------+------+------------------+--------------------+---------+-----------+-----+\n",
            "|       112|Ramesh|heblikar|  Male|               500|        [1, 2, 3, 5]|        1|    Shampoo|   10|\n",
            "|       112|Ramesh|heblikar|  Male|               500|        [1, 2, 3, 5]|        2|    T-shirt|   45|\n",
            "|       112|Ramesh|heblikar|  Male|               500|        [1, 2, 3, 5]|        3|     Ginger|    7|\n",
            "|       112|Ramesh|heblikar|  Male|               500|        [1, 2, 3, 5]|        5|     Tamato|   10|\n",
            "|       121| Raghu|   singh|  Male|               650|           [2, 4, 7]|        2|    T-shirt|   45|\n",
            "|       121| Raghu|   singh|  Male|               650|           [2, 4, 7]|        4| CoolDrinks|    5|\n",
            "|       125|Anjali|     rao|  Male|              1200|[8, 9, 2, 1, 5, 4...|        1|    Shampoo|   10|\n",
            "|       125|Anjali|     rao|  Male|              1200|[8, 9, 2, 1, 5, 4...|        2|    T-shirt|   45|\n",
            "|       125|Anjali|     rao|  Male|              1200|[8, 9, 2, 1, 5, 4...|        4| CoolDrinks|    5|\n",
            "|       125|Anjali|     rao|  Male|              1200|[8, 9, 2, 1, 5, 4...|        5|     Tamato|   10|\n",
            "|       171|Raksha|   verma|  Male|               500|       [2, 3, 9, 10]|        2|    T-shirt|   45|\n",
            "|       171|Raksha|   verma|  Male|               500|       [2, 3, 9, 10]|        3|     Ginger|    7|\n",
            "|       121| Raghu|   singh|  Male|               650|           [2, 4, 7]|        7|      Jeans|   60|\n",
            "|       125|Anjali|     rao|  Male|              1200|[8, 9, 2, 1, 5, 4...|        7|      Jeans|   60|\n",
            "|       125|Anjali|     rao|  Male|              1200|[8, 9, 2, 1, 5, 4...|        8|      Cream|  100|\n",
            "|       125|Anjali|     rao|  Male|              1200|[8, 9, 2, 1, 5, 4...|        9|     Trimer|  150|\n",
            "|       171|Raksha|   verma|  Male|               500|       [2, 3, 9, 10]|        9|     Trimer|  150|\n",
            "|       171|Raksha|   verma|  Male|               500|       [2, 3, 9, 10]|       10|      Phone|  500|\n",
            "|        82|Ganesh|  singam|  Male|               750|        [1, 5, 9, 7]|        1|    Shampoo|   10|\n",
            "|        82|Ganesh|  singam|  Male|               750|        [1, 5, 9, 7]|        5|     Tamato|   10|\n",
            "+----------+------+--------+------+------------------+--------------------+---------+-----------+-----+\n",
            "only showing top 20 rows\n",
            "\n"
          ]
        }
      ]
    },
    {
      "cell_type": "markdown",
      "source": [
        "# Random Samples"
      ],
      "metadata": {
        "id": "1f1Q30qkGVWG"
      }
    },
    {
      "cell_type": "code",
      "source": [
        "sampleDF1 = sdf.sample(False, 0.2, 1234)\n",
        "sampleDF2 = sdf.sample(False, 0.2, 4321)\n",
        "print(sampleDF1.count(), sampleDF2.count())"
      ],
      "metadata": {
        "colab": {
          "base_uri": "https://localhost:8080/"
        },
        "id": "O5GuSlYTGGDb",
        "outputId": "89e11b60-833a-4867-9804-25d9734194f1"
      },
      "execution_count": null,
      "outputs": [
        {
          "output_type": "stream",
          "name": "stdout",
          "text": [
            "30379 29994\n"
          ]
        }
      ]
    },
    {
      "cell_type": "markdown",
      "source": [
        "# Random Splits"
      ],
      "metadata": {
        "id": "yHjwhkl9Gmaf"
      }
    },
    {
      "cell_type": "code",
      "source": [
        "splits = sdf.randomSplit([0.7,0.3],seed= 45)\n",
        "print(splits[0].count())\n",
        "splits[1].count()"
      ],
      "metadata": {
        "colab": {
          "base_uri": "https://localhost:8080/"
        },
        "id": "uURMjMkoGiQy",
        "outputId": "4f745291-b888-4a21-889c-3050edab2906"
      },
      "execution_count": null,
      "outputs": [
        {
          "output_type": "stream",
          "name": "stdout",
          "text": [
            "104987\n"
          ]
        },
        {
          "output_type": "execute_result",
          "data": {
            "text/plain": [
              "45013"
            ]
          },
          "metadata": {},
          "execution_count": 124
        }
      ]
    },
    {
      "cell_type": "code",
      "source": [
        "splits[0].show(5)"
      ],
      "metadata": {
        "colab": {
          "base_uri": "https://localhost:8080/"
        },
        "id": "uK1iqKR4G3p0",
        "outputId": "72172455-a24f-404b-cec2-855780ec796f"
      },
      "execution_count": null,
      "outputs": [
        {
          "output_type": "stream",
          "name": "stdout",
          "text": [
            "+------+------+------+---+-------+-------+\n",
            "|Number|  City|Gender|Age| Income|Illness|\n",
            "+------+------+------+---+-------+-------+\n",
            "|     2|Dallas|  Male| 54|55084.0|     No|\n",
            "|     4|Dallas|  Male| 40|50941.0|     No|\n",
            "|     5|Dallas|  Male| 46|60289.0|     No|\n",
            "|     6|Dallas|Female| 36|60786.0|     No|\n",
            "|     8|Dallas|  Male| 39|40914.0|     No|\n",
            "+------+------+------+---+-------+-------+\n",
            "only showing top 5 rows\n",
            "\n"
          ]
        }
      ]
    },
    {
      "cell_type": "markdown",
      "source": [
        "# Map Transformation"
      ],
      "metadata": {
        "id": "HdaN5XtYHN03"
      }
    },
    {
      "cell_type": "code",
      "source": [
        "sdf.select(col('City')).rdd.map(lambda x: (x,len(x))).toDF().show(10)\n"
      ],
      "metadata": {
        "colab": {
          "base_uri": "https://localhost:8080/"
        },
        "id": "qbETZ3R9HDCd",
        "outputId": "8ced5334-6219-428b-fc1e-3b15df1086de"
      },
      "execution_count": null,
      "outputs": [
        {
          "output_type": "stream",
          "name": "stdout",
          "text": [
            "+--------+---+\n",
            "|      _1| _2|\n",
            "+--------+---+\n",
            "|[Dallas]|  1|\n",
            "|[Dallas]|  1|\n",
            "|[Dallas]|  1|\n",
            "|[Dallas]|  1|\n",
            "|[Dallas]|  1|\n",
            "|[Dallas]|  1|\n",
            "|[Dallas]|  1|\n",
            "|[Dallas]|  1|\n",
            "|[Dallas]|  1|\n",
            "|[Dallas]|  1|\n",
            "+--------+---+\n",
            "only showing top 10 rows\n",
            "\n"
          ]
        }
      ]
    },
    {
      "cell_type": "markdown",
      "source": [
        "# Sorting Rows"
      ],
      "metadata": {
        "id": "BbyNVuY5HrE2"
      }
    },
    {
      "cell_type": "code",
      "source": [
        "sdf.show()"
      ],
      "metadata": {
        "colab": {
          "base_uri": "https://localhost:8080/"
        },
        "id": "qLGdElH3Hh_7",
        "outputId": "7b8c0252-77e1-4750-e1b8-93cc86d3a53a"
      },
      "execution_count": null,
      "outputs": [
        {
          "output_type": "stream",
          "name": "stdout",
          "text": [
            "+------+------+------+---+-------+-------+\n",
            "|Number|  City|Gender|Age| Income|Illness|\n",
            "+------+------+------+---+-------+-------+\n",
            "|     1|Dallas|  Male| 41|50367.0|     No|\n",
            "|     2|Dallas|  Male| 54|55084.0|     No|\n",
            "|     3|Dallas|  Male| 42|62483.0|     No|\n",
            "|     4|Dallas|  Male| 40|50941.0|     No|\n",
            "|     5|Dallas|  Male| 46|60289.0|     No|\n",
            "|     6|Dallas|Female| 36|60786.0|     No|\n",
            "|     7|Dallas|Female| 32|43155.0|     No|\n",
            "|     8|Dallas|  Male| 39|40914.0|     No|\n",
            "|     9|Dallas|  Male| 51|78667.0|     No|\n",
            "|    10|Dallas|Female| 30|60082.0|     No|\n",
            "|    11|Dallas|Female| 48|51524.0|    Yes|\n",
            "|    12|Dallas|  Male| 47|64777.0|     No|\n",
            "|    13|Dallas|  Male| 46|72749.0|     No|\n",
            "|    14|Dallas|Female| 42|60894.0|     No|\n",
            "|    15|Dallas|Female| 61|48429.0|     No|\n",
            "|    16|Dallas|  Male| 43|44074.0|     No|\n",
            "|    17|Dallas|  Male| 27|60398.0|     No|\n",
            "|    18|Dallas|  Male| 38|56373.0|    Yes|\n",
            "|    19|Dallas|  Male| 47|61137.0|     No|\n",
            "|    20|Dallas|Female| 35|33688.0|     No|\n",
            "+------+------+------+---+-------+-------+\n",
            "only showing top 20 rows\n",
            "\n"
          ]
        }
      ]
    },
    {
      "cell_type": "code",
      "source": [
        "#orderby income in descending order\n",
        "sdf.orderBy(col('Income').desc()).show()"
      ],
      "metadata": {
        "colab": {
          "base_uri": "https://localhost:8080/"
        },
        "id": "PJHeqy8RHwLi",
        "outputId": "3e0a982c-ed91-454e-e962-50e083f0fc3f"
      },
      "execution_count": null,
      "outputs": [
        {
          "output_type": "stream",
          "name": "stdout",
          "text": [
            "+------+-------------+------+---+--------+-------+\n",
            "|Number|         City|Gender|Age|  Income|Illness|\n",
            "+------+-------------+------+---+--------+-------+\n",
            "|109351|Mountain View|  Male| 58|187157.0|     No|\n",
            "|105282|Mountain View|  Male| 41|186746.0|     No|\n",
            "|109061|Mountain View|  Male| 61|183991.0|     No|\n",
            "|110878|Mountain View|  Male| 52|183826.0|     No|\n",
            "|112193|Mountain View|  Male| 58|182825.0|     No|\n",
            "|102882|Mountain View|  Male| 47|181862.0|     No|\n",
            "|112341|Mountain View|  Male| 37|180965.0|     No|\n",
            "|107155|Mountain View|  Male| 31|180937.0|     No|\n",
            "|106021|Mountain View|  Male| 27|180927.0|     No|\n",
            "|105905|Mountain View|  Male| 30|180463.0|     No|\n",
            "|114767|Mountain View|  Male| 48|180289.0|     No|\n",
            "|109556|Mountain View|  Male| 43|180179.0|     No|\n",
            "|107486|Mountain View|  Male| 63|179843.0|     No|\n",
            "|115296|Mountain View|  Male| 46|178918.0|     No|\n",
            "|102763|Mountain View|  Male| 62|178911.0|     No|\n",
            "|114626|Mountain View|  Male| 51|178743.0|     No|\n",
            "|107178|Mountain View|  Male| 49|178505.0|     No|\n",
            "|115101|Mountain View|Female| 32|178440.0|     No|\n",
            "|106986|Mountain View|  Male| 48|178328.0|     No|\n",
            "|112765|Mountain View|  Male| 45|178117.0|     No|\n",
            "+------+-------------+------+---+--------+-------+\n",
            "only showing top 20 rows\n",
            "\n"
          ]
        }
      ]
    },
    {
      "cell_type": "code",
      "source": [
        "sdf.orderBy(col(\"Income\"), ascending=True).show()"
      ],
      "metadata": {
        "colab": {
          "base_uri": "https://localhost:8080/"
        },
        "id": "ANBmCBF8H8Bj",
        "outputId": "c9ac0bb0-9aec-49a6-d569-6a39b68bfe07"
      },
      "execution_count": null,
      "outputs": [
        {
          "output_type": "stream",
          "name": "stdout",
          "text": [
            "+------+------+------+---+-------+-------+\n",
            "|Number|  City|Gender|Age| Income|Illness|\n",
            "+------+------+------+---+-------+-------+\n",
            "|   246|Dallas|Female| 40| 9346.0|    Yes|\n",
            "|  7897|Dallas|Female| 34|10584.0|     No|\n",
            "| 18485|Dallas|Female| 43|12474.0|     No|\n",
            "|  9299|Dallas|Female| 31|12667.0|    Yes|\n",
            "| 17136|Dallas|Female| 39|13842.0|     No|\n",
            "|  2119|Dallas|Female| 56|14371.0|     No|\n",
            "|  4247|Dallas|Female| 38|15717.0|     No|\n",
            "| 18986|Dallas|Female| 40|16722.0|     No|\n",
            "|   407|Dallas|Female| 65|16733.0|     No|\n",
            "| 17103|Dallas|Female| 40|18129.0|     No|\n",
            "|  1826|Dallas|Female| 59|18182.0|     No|\n",
            "|  2524|Dallas|Female| 36|18279.0|     No|\n",
            "|  5499|Dallas|Female| 63|18548.0|     No|\n",
            "|  1038|Dallas|Female| 42|18613.0|     No|\n",
            "|  7636|Dallas|Female| 26|18719.0|     No|\n",
            "|  3087|Dallas|Female| 51|18812.0|     No|\n",
            "| 14204|Dallas|Female| 49|19046.0|     No|\n",
            "|  6623|Dallas|Female| 40|19531.0|     No|\n",
            "| 17821|Dallas|Female| 57|19760.0|    Yes|\n",
            "| 11466|Dallas|Female| 35|20129.0|     No|\n",
            "+------+------+------+---+-------+-------+\n",
            "only showing top 20 rows\n",
            "\n"
          ]
        }
      ]
    },
    {
      "cell_type": "markdown",
      "source": [
        "# Repartition and Coalesce"
      ],
      "metadata": {
        "id": "vJZtzae-IZoG"
      }
    },
    {
      "cell_type": "code",
      "source": [
        "#to see the number of partitons before performing the repartioning\n",
        "sdf.rdd.getNumPartitions()"
      ],
      "metadata": {
        "colab": {
          "base_uri": "https://localhost:8080/"
        },
        "id": "qlrHhXb3IVzT",
        "outputId": "9ba3fa76-9062-4853-a650-84347af09cf7"
      },
      "execution_count": null,
      "outputs": [
        {
          "output_type": "execute_result",
          "data": {
            "text/plain": [
              "2"
            ]
          },
          "metadata": {},
          "execution_count": 130
        }
      ]
    },
    {
      "cell_type": "code",
      "source": [
        "#repartition into 5 partitions\n",
        "tempP = sdf.repartition(5)\n",
        "\n",
        "tempP.rdd.getNumPartitions()"
      ],
      "metadata": {
        "colab": {
          "base_uri": "https://localhost:8080/"
        },
        "id": "3rizdPMrIlWT",
        "outputId": "7ade09c9-b07b-4390-f6d5-71abddfb8842"
      },
      "execution_count": null,
      "outputs": [
        {
          "output_type": "execute_result",
          "data": {
            "text/plain": [
              "5"
            ]
          },
          "metadata": {},
          "execution_count": 131
        }
      ]
    },
    {
      "cell_type": "markdown",
      "source": [
        "# Unions and condtional append\n",
        "Joining or appending two tables one below another"
      ],
      "metadata": {
        "id": "v7raUsYZI6Am"
      }
    },
    {
      "cell_type": "code",
      "source": [
        "prod_one = spark.createDataFrame([\n",
        "    (1,'Shampoo',10),\n",
        "    (2,'T-shirt',45),\n",
        "    (3,'Ginger',7),\n",
        "    (4,'CoolDrinks',5),\n",
        "    (5,'Tamato',10)])\\\n",
        "    .toDF(\"ProductID\",'ProductName','Price')\n",
        "\n",
        "prod_two = spark.createDataFrame([\n",
        "    (6,'Onion',30),\n",
        "    (7,'Jeans',60),\n",
        "    (8,'Cream',100),\n",
        "    (9,'Trimer',150),\n",
        "    (10,'Phone',500)])\\\n",
        "    .toDF(\"ProductID\",'ProductName','Price')"
      ],
      "metadata": {
        "id": "fdAz-N9tIq_D"
      },
      "execution_count": null,
      "outputs": []
    },
    {
      "cell_type": "code",
      "source": [
        "prod_one.show()\n",
        "prod_two.show()"
      ],
      "metadata": {
        "colab": {
          "base_uri": "https://localhost:8080/"
        },
        "id": "S29FKYKGJo1i",
        "outputId": "ff112d7c-c808-431f-9ce4-f9a5b5a160fe"
      },
      "execution_count": null,
      "outputs": [
        {
          "output_type": "stream",
          "name": "stdout",
          "text": [
            "+---------+-----------+-----+\n",
            "|ProductID|ProductName|Price|\n",
            "+---------+-----------+-----+\n",
            "|        1|    Shampoo|   10|\n",
            "|        2|    T-shirt|   45|\n",
            "|        3|     Ginger|    7|\n",
            "|        4| CoolDrinks|    5|\n",
            "|        5|     Tamato|   10|\n",
            "+---------+-----------+-----+\n",
            "\n",
            "+---------+-----------+-----+\n",
            "|ProductID|ProductName|Price|\n",
            "+---------+-----------+-----+\n",
            "|        6|      Onion|   30|\n",
            "|        7|      Jeans|   60|\n",
            "|        8|      Cream|  100|\n",
            "|        9|     Trimer|  150|\n",
            "|       10|      Phone|  500|\n",
            "+---------+-----------+-----+\n",
            "\n"
          ]
        }
      ]
    },
    {
      "cell_type": "code",
      "source": [
        "#Unions of these two dataframes\n",
        "prod_one.union(prod_two).show()"
      ],
      "metadata": {
        "colab": {
          "base_uri": "https://localhost:8080/"
        },
        "id": "41shDNasJ2zb",
        "outputId": "f7290469-2a2c-4648-e9d1-e52b264a925d"
      },
      "execution_count": null,
      "outputs": [
        {
          "output_type": "stream",
          "name": "stdout",
          "text": [
            "+---------+-----------+-----+\n",
            "|ProductID|ProductName|Price|\n",
            "+---------+-----------+-----+\n",
            "|        1|    Shampoo|   10|\n",
            "|        2|    T-shirt|   45|\n",
            "|        3|     Ginger|    7|\n",
            "|        4| CoolDrinks|    5|\n",
            "|        5|     Tamato|   10|\n",
            "|        6|      Onion|   30|\n",
            "|        7|      Jeans|   60|\n",
            "|        8|      Cream|  100|\n",
            "|        9|     Trimer|  150|\n",
            "|       10|      Phone|  500|\n",
            "+---------+-----------+-----+\n",
            "\n"
          ]
        }
      ]
    },
    {
      "cell_type": "code",
      "source": [
        "#condtional appending -- here the conditon applies to both the dataframes \n",
        "prod_one.union(prod_two).where(\"price>10\").show()"
      ],
      "metadata": {
        "colab": {
          "base_uri": "https://localhost:8080/"
        },
        "id": "-cLE-QN5KB_b",
        "outputId": "a0c3e21c-090e-4020-d1a8-b1020f2fad37"
      },
      "execution_count": null,
      "outputs": [
        {
          "output_type": "stream",
          "name": "stdout",
          "text": [
            "+---------+-----------+-----+\n",
            "|ProductID|ProductName|Price|\n",
            "+---------+-----------+-----+\n",
            "|        2|    T-shirt|   45|\n",
            "|        6|      Onion|   30|\n",
            "|        7|      Jeans|   60|\n",
            "|        8|      Cream|  100|\n",
            "|        9|     Trimer|  150|\n",
            "|       10|      Phone|  500|\n",
            "+---------+-----------+-----+\n",
            "\n"
          ]
        }
      ]
    },
    {
      "cell_type": "markdown",
      "source": [
        "# User Defined Functions - UDF"
      ],
      "metadata": {
        "id": "ShrzkmZDK3s_"
      }
    },
    {
      "cell_type": "code",
      "source": [
        "sdf.show(5)"
      ],
      "metadata": {
        "colab": {
          "base_uri": "https://localhost:8080/"
        },
        "id": "1rTvQ8rcPhev",
        "outputId": "d674dc37-a609-4420-d226-109438a525bf"
      },
      "execution_count": null,
      "outputs": [
        {
          "output_type": "stream",
          "name": "stdout",
          "text": [
            "+------+------+------+---+-------+-------+\n",
            "|Number|  City|Gender|Age| Income|Illness|\n",
            "+------+------+------+---+-------+-------+\n",
            "|     1|Dallas|  Male| 41|50367.0|     No|\n",
            "|     2|Dallas|  Male| 54|55084.0|     No|\n",
            "|     3|Dallas|  Male| 42|62483.0|     No|\n",
            "|     4|Dallas|  Male| 40|50941.0|     No|\n",
            "|     5|Dallas|  Male| 46|60289.0|     No|\n",
            "+------+------+------+---+-------+-------+\n",
            "only showing top 5 rows\n",
            "\n"
          ]
        }
      ]
    },
    {
      "cell_type": "code",
      "source": [
        "from pyspark.sql.functions import udf"
      ],
      "metadata": {
        "id": "3e0AgddZKfDQ"
      },
      "execution_count": null,
      "outputs": []
    },
    {
      "cell_type": "code",
      "source": [
        "func1 = udf(lambda x: x-10000)"
      ],
      "metadata": {
        "id": "E4i9GUn8OCMl"
      },
      "execution_count": null,
      "outputs": []
    },
    {
      "cell_type": "code",
      "source": [
        "#subtracting 10000 from income \n",
        "sdf_1 = sdf.withColumn(\"Income\",func1(sdf['Income']))\n",
        "sdf_1.show()"
      ],
      "metadata": {
        "colab": {
          "base_uri": "https://localhost:8080/"
        },
        "id": "reyRW3gCPqYq",
        "outputId": "abbd3029-1203-4a23-db5f-d848f231eb18"
      },
      "execution_count": null,
      "outputs": [
        {
          "output_type": "stream",
          "name": "stdout",
          "text": [
            "+------+------+------+---+-------+-------+\n",
            "|Number|  City|Gender|Age| Income|Illness|\n",
            "+------+------+------+---+-------+-------+\n",
            "|     1|Dallas|  Male| 41|40367.0|     No|\n",
            "|     2|Dallas|  Male| 54|45084.0|     No|\n",
            "|     3|Dallas|  Male| 42|52483.0|     No|\n",
            "|     4|Dallas|  Male| 40|40941.0|     No|\n",
            "|     5|Dallas|  Male| 46|50289.0|     No|\n",
            "|     6|Dallas|Female| 36|50786.0|     No|\n",
            "|     7|Dallas|Female| 32|33155.0|     No|\n",
            "|     8|Dallas|  Male| 39|30914.0|     No|\n",
            "|     9|Dallas|  Male| 51|68667.0|     No|\n",
            "|    10|Dallas|Female| 30|50082.0|     No|\n",
            "|    11|Dallas|Female| 48|41524.0|    Yes|\n",
            "|    12|Dallas|  Male| 47|54777.0|     No|\n",
            "|    13|Dallas|  Male| 46|62749.0|     No|\n",
            "|    14|Dallas|Female| 42|50894.0|     No|\n",
            "|    15|Dallas|Female| 61|38429.0|     No|\n",
            "|    16|Dallas|  Male| 43|34074.0|     No|\n",
            "|    17|Dallas|  Male| 27|50398.0|     No|\n",
            "|    18|Dallas|  Male| 38|46373.0|    Yes|\n",
            "|    19|Dallas|  Male| 47|51137.0|     No|\n",
            "|    20|Dallas|Female| 35|23688.0|     No|\n",
            "+------+------+------+---+-------+-------+\n",
            "only showing top 20 rows\n",
            "\n"
          ]
        }
      ]
    },
    {
      "cell_type": "code",
      "source": [
        "#another function\n",
        "func2 = udf(lambda x: (x+str(len(x))))"
      ],
      "metadata": {
        "id": "akcU9rSfP-4q"
      },
      "execution_count": null,
      "outputs": []
    },
    {
      "cell_type": "code",
      "source": [
        "sdf.withColumn(\"function_columns\",func2(sdf['City'])).show(5)"
      ],
      "metadata": {
        "colab": {
          "base_uri": "https://localhost:8080/"
        },
        "id": "ddXSMPxDQn9o",
        "outputId": "29ea6b44-058f-4095-95dd-c3349a23ea35"
      },
      "execution_count": null,
      "outputs": [
        {
          "output_type": "stream",
          "name": "stdout",
          "text": [
            "+------+------+------+---+-------+-------+----------------+\n",
            "|Number|  City|Gender|Age| Income|Illness|function_columns|\n",
            "+------+------+------+---+-------+-------+----------------+\n",
            "|     1|Dallas|  Male| 41|50367.0|     No|         Dallas6|\n",
            "|     2|Dallas|  Male| 54|55084.0|     No|         Dallas6|\n",
            "|     3|Dallas|  Male| 42|62483.0|     No|         Dallas6|\n",
            "|     4|Dallas|  Male| 40|50941.0|     No|         Dallas6|\n",
            "|     5|Dallas|  Male| 46|60289.0|     No|         Dallas6|\n",
            "+------+------+------+---+-------+-------+----------------+\n",
            "only showing top 5 rows\n",
            "\n"
          ]
        }
      ]
    },
    {
      "cell_type": "code",
      "source": [
        "avgIncome = sdf.select(expr(\"avg(Income)\"))\n",
        "\n",
        "def indicator_var(x):\n",
        "  if x > avgIncome.collect()[0][0]:\n",
        "    return 1\n",
        "  else:\n",
        "    return 0\n",
        "func3 = udf(indicator_var)"
      ],
      "metadata": {
        "id": "E2RvK4bU1ZBk"
      },
      "execution_count": null,
      "outputs": []
    },
    {
      "cell_type": "code",
      "source": [
        "#Could not solve this error \n",
        "#sdf.select(func3(col(\"Income\"))).show()"
      ],
      "metadata": {
        "id": "fbrIXd7l3CVA"
      },
      "execution_count": null,
      "outputs": []
    },
    {
      "cell_type": "code",
      "source": [],
      "metadata": {
        "id": "Vi7XNF4w3CEA"
      },
      "execution_count": null,
      "outputs": []
    },
    {
      "cell_type": "markdown",
      "source": [
        "# Correlation between two columns"
      ],
      "metadata": {
        "id": "L0KIFMFmS7v_"
      }
    },
    {
      "cell_type": "code",
      "source": [
        "from pyspark.sql.functions import corr\n",
        "print(sdf.stat.corr(\"Income\", \"Age\"))\n",
        "sdf.select(corr(\"Income\", \"Age\")).show()"
      ],
      "metadata": {
        "colab": {
          "base_uri": "https://localhost:8080/"
        },
        "id": "sdVRCJqqQxq-",
        "outputId": "dff08421-8c44-4eba-d5f5-2ae595992dde"
      },
      "execution_count": null,
      "outputs": [
        {
          "output_type": "stream",
          "name": "stdout",
          "text": [
            "-0.0013181143630557161\n",
            "+--------------------+\n",
            "|   corr(Income, Age)|\n",
            "+--------------------+\n",
            "|-0.00131811436305...|\n",
            "+--------------------+\n",
            "\n"
          ]
        }
      ]
    },
    {
      "cell_type": "code",
      "source": [
        "sdf.stat.freqItems(['City'],0.3).show(truncate=False)"
      ],
      "metadata": {
        "colab": {
          "base_uri": "https://localhost:8080/"
        },
        "id": "at87JUtGTH1W",
        "outputId": "0408a213-a507-4f80-a600-48a6727a84c7"
      },
      "execution_count": null,
      "outputs": [
        {
          "output_type": "stream",
          "name": "stdout",
          "text": [
            "+------------------------------------+\n",
            "|City_freqItems                      |\n",
            "+------------------------------------+\n",
            "|[Los Angeles, New York City, Austin]|\n",
            "+------------------------------------+\n",
            "\n"
          ]
        }
      ]
    },
    {
      "cell_type": "markdown",
      "source": [
        "# String Manipulations"
      ],
      "metadata": {
        "id": "DZ1FBjfxUiOO"
      }
    },
    {
      "cell_type": "code",
      "source": [
        "from pyspark.sql.functions import lit, ltrim, rtrim, rpad, lpad, trim"
      ],
      "metadata": {
        "id": "VuaiHGGuTaOC"
      },
      "execution_count": null,
      "outputs": []
    },
    {
      "cell_type": "code",
      "source": [
        "df = spark.createDataFrame([[1,2,3]])\n",
        "df.select(ltrim(lit(\"   Hello    \")).alias(\"Ltrim\")).show()"
      ],
      "metadata": {
        "colab": {
          "base_uri": "https://localhost:8080/"
        },
        "id": "SLgxE9NPUvCP",
        "outputId": "7e1f4826-23da-4383-83ce-6038f322e342"
      },
      "execution_count": null,
      "outputs": [
        {
          "output_type": "stream",
          "name": "stdout",
          "text": [
            "+---------+\n",
            "|    Ltrim|\n",
            "+---------+\n",
            "|Hello    |\n",
            "+---------+\n",
            "\n"
          ]
        }
      ]
    },
    {
      "cell_type": "code",
      "source": [
        "df.select(rtrim(lit(\"   hello    \"))).show()"
      ],
      "metadata": {
        "colab": {
          "base_uri": "https://localhost:8080/"
        },
        "id": "GdJMPv6sU-lC",
        "outputId": "2ac926c1-8706-44a1-c8f6-3df9180681a9"
      },
      "execution_count": null,
      "outputs": [
        {
          "output_type": "stream",
          "name": "stdout",
          "text": [
            "+-------------------+\n",
            "|rtrim(   hello    )|\n",
            "+-------------------+\n",
            "|              hello|\n",
            "+-------------------+\n",
            "\n"
          ]
        }
      ]
    },
    {
      "cell_type": "code",
      "source": [
        "df.select(trim(lit(\"    Hello    \"))).show()"
      ],
      "metadata": {
        "colab": {
          "base_uri": "https://localhost:8080/"
        },
        "id": "iJ4pIQTWVxnQ",
        "outputId": "de034448-6a97-4f54-f5c6-4699a19b23ef"
      },
      "execution_count": null,
      "outputs": [
        {
          "output_type": "stream",
          "name": "stdout",
          "text": [
            "+-------------------+\n",
            "|trim(    Hello    )|\n",
            "+-------------------+\n",
            "|              Hello|\n",
            "+-------------------+\n",
            "\n"
          ]
        }
      ]
    },
    {
      "cell_type": "code",
      "source": [
        "df.select(lpad(lit(\"hello\"),10,\"@\")).show()"
      ],
      "metadata": {
        "colab": {
          "base_uri": "https://localhost:8080/"
        },
        "id": "Qd_9Dnz8V7IX",
        "outputId": "40f17010-b894-41c7-de64-1cc5443cc22c"
      },
      "execution_count": null,
      "outputs": [
        {
          "output_type": "stream",
          "name": "stdout",
          "text": [
            "+------------------+\n",
            "|lpad(hello, 10, @)|\n",
            "+------------------+\n",
            "|        @@@@@hello|\n",
            "+------------------+\n",
            "\n"
          ]
        }
      ]
    },
    {
      "cell_type": "code",
      "source": [
        "df.select(rpad(lit(\"Hello\"),20,\"@\")).show()"
      ],
      "metadata": {
        "colab": {
          "base_uri": "https://localhost:8080/"
        },
        "id": "McHAlgT5WKXn",
        "outputId": "592c4900-9926-4d40-eb95-7fdf7fd9ed99"
      },
      "execution_count": null,
      "outputs": [
        {
          "output_type": "stream",
          "name": "stdout",
          "text": [
            "+--------------------+\n",
            "|  rpad(Hello, 20, @)|\n",
            "+--------------------+\n",
            "|Hello@@@@@@@@@@@@@@@|\n",
            "+--------------------+\n",
            "\n"
          ]
        }
      ]
    },
    {
      "cell_type": "code",
      "source": [
        "from pyspark.sql.functions import translate\n",
        "sdf.select(\n",
        "translate(col(\"Gender\"), \"MaleFemale\", \"12\"),\n",
        "col(\"Gender\"))\\\n",
        ".show(10)"
      ],
      "metadata": {
        "colab": {
          "base_uri": "https://localhost:8080/"
        },
        "id": "y-GEVbyTWz_6",
        "outputId": "0413ed83-6158-498b-c9a4-d683706e9638"
      },
      "execution_count": null,
      "outputs": [
        {
          "output_type": "stream",
          "name": "stdout",
          "text": [
            "+---------------------------------+------+\n",
            "|translate(Gender, MaleFemale, 12)|Gender|\n",
            "+---------------------------------+------+\n",
            "|                               12|  Male|\n",
            "|                               12|  Male|\n",
            "|                               12|  Male|\n",
            "|                               12|  Male|\n",
            "|                               12|  Male|\n",
            "|                                2|Female|\n",
            "|                                2|Female|\n",
            "|                               12|  Male|\n",
            "|                               12|  Male|\n",
            "|                                2|Female|\n",
            "+---------------------------------+------+\n",
            "only showing top 10 rows\n",
            "\n"
          ]
        }
      ]
    },
    {
      "cell_type": "markdown",
      "source": [
        "# Working with Date and Time"
      ],
      "metadata": {
        "id": "Ff5GJ_FFX94t"
      }
    },
    {
      "cell_type": "code",
      "source": [
        "from pyspark.sql.functions import current_date, current_timestamp, date_add, date_sub"
      ],
      "metadata": {
        "id": "vA1fT-saX9re"
      },
      "execution_count": null,
      "outputs": []
    },
    {
      "cell_type": "code",
      "source": [
        "dateDF = spark.range(5)\\\n",
        ".withColumn(\"today\", current_date())\\\n",
        ".withColumn(\"now\", current_timestamp())\n",
        "dateDF.show(truncate = False)"
      ],
      "metadata": {
        "colab": {
          "base_uri": "https://localhost:8080/"
        },
        "id": "k0xAgBvfXPHm",
        "outputId": "2cb216b3-fb4d-4fe0-a561-93e9109403c3"
      },
      "execution_count": null,
      "outputs": [
        {
          "output_type": "stream",
          "name": "stdout",
          "text": [
            "+---+----------+-----------------------+\n",
            "|id |today     |now                    |\n",
            "+---+----------+-----------------------+\n",
            "|0  |2022-12-12|2022-12-12 15:19:21.775|\n",
            "|1  |2022-12-12|2022-12-12 15:19:21.775|\n",
            "|2  |2022-12-12|2022-12-12 15:19:21.775|\n",
            "|3  |2022-12-12|2022-12-12 15:19:21.775|\n",
            "|4  |2022-12-12|2022-12-12 15:19:21.775|\n",
            "+---+----------+-----------------------+\n",
            "\n"
          ]
        }
      ]
    },
    {
      "cell_type": "code",
      "source": [
        "dateDF.select(date_sub(col(\"today\"),5),date_add(col(\"today\"),5)).show()"
      ],
      "metadata": {
        "colab": {
          "base_uri": "https://localhost:8080/"
        },
        "id": "lsnhbrcIYJui",
        "outputId": "d40cad06-714c-4324-d020-0fe753ae1d25"
      },
      "execution_count": null,
      "outputs": [
        {
          "output_type": "stream",
          "name": "stdout",
          "text": [
            "+------------------+------------------+\n",
            "|date_sub(today, 5)|date_add(today, 5)|\n",
            "+------------------+------------------+\n",
            "|        2022-12-07|        2022-12-17|\n",
            "|        2022-12-07|        2022-12-17|\n",
            "|        2022-12-07|        2022-12-17|\n",
            "|        2022-12-07|        2022-12-17|\n",
            "|        2022-12-07|        2022-12-17|\n",
            "+------------------+------------------+\n",
            "\n"
          ]
        }
      ]
    },
    {
      "cell_type": "code",
      "source": [
        "from pyspark.sql.functions import datediff, months_between, to_date"
      ],
      "metadata": {
        "id": "XsZlzvOBYqAO"
      },
      "execution_count": null,
      "outputs": []
    },
    {
      "cell_type": "code",
      "source": [
        "dateDF = dateDF.withColumn(\"Month-ago\",date_sub(col(\"today\"),30))\n",
        "dateDF.show()"
      ],
      "metadata": {
        "colab": {
          "base_uri": "https://localhost:8080/"
        },
        "id": "LeYHLxCJZQv1",
        "outputId": "5ac0c4d7-651e-460d-93d7-9d64840d1d7a"
      },
      "execution_count": null,
      "outputs": [
        {
          "output_type": "stream",
          "name": "stdout",
          "text": [
            "+---+----------+--------------------+----------+\n",
            "| id|     today|                 now| Month-ago|\n",
            "+---+----------+--------------------+----------+\n",
            "|  0|2022-12-12|2022-12-12 15:19:...|2022-11-12|\n",
            "|  1|2022-12-12|2022-12-12 15:19:...|2022-11-12|\n",
            "|  2|2022-12-12|2022-12-12 15:19:...|2022-11-12|\n",
            "|  3|2022-12-12|2022-12-12 15:19:...|2022-11-12|\n",
            "|  4|2022-12-12|2022-12-12 15:19:...|2022-11-12|\n",
            "+---+----------+--------------------+----------+\n",
            "\n"
          ]
        }
      ]
    },
    {
      "cell_type": "code",
      "source": [
        "dateDF.select(datediff(col(\"today\"),col(\"Month-ago\")).alias(\"Datediff\")).show()\n",
        "dateDF.select(datediff(to_date(lit(\"2020-09-08\")),to_date(lit(\"2020-07-10\")))).show()"
      ],
      "metadata": {
        "colab": {
          "base_uri": "https://localhost:8080/"
        },
        "id": "97goqrCTZsyP",
        "outputId": "e173e0a0-f2c4-417b-eafd-bbc21bd71fea"
      },
      "execution_count": null,
      "outputs": [
        {
          "output_type": "stream",
          "name": "stdout",
          "text": [
            "+--------+\n",
            "|Datediff|\n",
            "+--------+\n",
            "|      30|\n",
            "|      30|\n",
            "|      30|\n",
            "|      30|\n",
            "|      30|\n",
            "+--------+\n",
            "\n",
            "+------------------------------------------------------+\n",
            "|datediff(to_date('2020-09-08'), to_date('2020-07-10'))|\n",
            "+------------------------------------------------------+\n",
            "|                                                    60|\n",
            "|                                                    60|\n",
            "|                                                    60|\n",
            "|                                                    60|\n",
            "|                                                    60|\n",
            "+------------------------------------------------------+\n",
            "\n"
          ]
        }
      ]
    },
    {
      "cell_type": "code",
      "source": [
        "dateDF.select(months_between(col(\"today\"),col(\"Month-ago\"))).show()\n",
        "dateDF.select(months_between(to_date(lit(\"2020-09-08\")),to_date(lit(\"2020-07-10\"))).alias(\"Month Between\")).show()"
      ],
      "metadata": {
        "colab": {
          "base_uri": "https://localhost:8080/"
        },
        "id": "vrhxeGGJaEBJ",
        "outputId": "fc89b52e-f202-40f4-fbed-9819628abfd1"
      },
      "execution_count": null,
      "outputs": [
        {
          "output_type": "stream",
          "name": "stdout",
          "text": [
            "+--------------------------------------+\n",
            "|months_between(today, Month-ago, true)|\n",
            "+--------------------------------------+\n",
            "|                                   1.0|\n",
            "|                                   1.0|\n",
            "|                                   1.0|\n",
            "|                                   1.0|\n",
            "|                                   1.0|\n",
            "+--------------------------------------+\n",
            "\n",
            "+-------------+\n",
            "|Month Between|\n",
            "+-------------+\n",
            "|   1.93548387|\n",
            "|   1.93548387|\n",
            "|   1.93548387|\n",
            "|   1.93548387|\n",
            "|   1.93548387|\n",
            "+-------------+\n",
            "\n"
          ]
        }
      ]
    },
    {
      "cell_type": "code",
      "source": [
        "from pyspark.sql.functions import unix_timestamp, from_unixtime\n",
        "dateFormat = \"yyyy-dd-MM\""
      ],
      "metadata": {
        "id": "wU9kXVKSaSTV"
      },
      "execution_count": null,
      "outputs": []
    },
    {
      "cell_type": "code",
      "source": [
        "dateDF.select(to_date(unix_timestamp(lit(\"2022-30-12\"),dateFormat).cast(\"timestamp\"))).show()"
      ],
      "metadata": {
        "colab": {
          "base_uri": "https://localhost:8080/"
        },
        "id": "LSohH3kEb9pE",
        "outputId": "a1b4a4ce-7103-47e9-b13d-0d8d1c5047a4"
      },
      "execution_count": null,
      "outputs": [
        {
          "output_type": "stream",
          "name": "stdout",
          "text": [
            "+----------------------------------------------------------------------+\n",
            "|to_date(CAST(unix_timestamp('2022-30-12', 'yyyy-dd-MM') AS TIMESTAMP))|\n",
            "+----------------------------------------------------------------------+\n",
            "|                                                            2022-12-30|\n",
            "|                                                            2022-12-30|\n",
            "|                                                            2022-12-30|\n",
            "|                                                            2022-12-30|\n",
            "|                                                            2022-12-30|\n",
            "+----------------------------------------------------------------------+\n",
            "\n"
          ]
        }
      ]
    },
    {
      "cell_type": "markdown",
      "source": [
        "# Broadcast Variables"
      ],
      "metadata": {
        "id": "r13EPSSAe7AN"
      }
    },
    {
      "cell_type": "code",
      "source": [
        "sdf.show(5)"
      ],
      "metadata": {
        "colab": {
          "base_uri": "https://localhost:8080/"
        },
        "id": "XIbIxVr_b_mG",
        "outputId": "7690be27-53a7-401c-b307-171edf02a1f5"
      },
      "execution_count": null,
      "outputs": [
        {
          "output_type": "stream",
          "name": "stdout",
          "text": [
            "+------+------+------+---+-------+-------+\n",
            "|Number|  City|Gender|Age| Income|Illness|\n",
            "+------+------+------+---+-------+-------+\n",
            "|     1|Dallas|  Male| 41|50367.0|     No|\n",
            "|     2|Dallas|  Male| 54|55084.0|     No|\n",
            "|     3|Dallas|  Male| 42|62483.0|     No|\n",
            "|     4|Dallas|  Male| 40|50941.0|     No|\n",
            "|     5|Dallas|  Male| 46|60289.0|     No|\n",
            "+------+------+------+---+-------+-------+\n",
            "only showing top 5 rows\n",
            "\n"
          ]
        }
      ]
    },
    {
      "cell_type": "code",
      "source": [
        "CityBC = {\"Dallas\":\"DA\",\"Los Angeles\":\"LA\",\"San Diego\":\"SD\",\"Austin\":\"AU\",\"New York City\":\"NYC\",\n",
        "          \"Washington D.C.\":\"WDC\",\"Mountain View\":\"MV\",\"Boston\":\"BO\"}\n",
        "cityBroadcasted = sc.broadcast(CityBC)"
      ],
      "metadata": {
        "id": "GQaXYFFPkPSo"
      },
      "execution_count": null,
      "outputs": []
    },
    {
      "cell_type": "code",
      "source": [
        "cityBroadcasted.value"
      ],
      "metadata": {
        "colab": {
          "base_uri": "https://localhost:8080/"
        },
        "id": "4Nqb4kpSk-dB",
        "outputId": "5e6bb9f9-e657-4725-cb74-233f15954ea8"
      },
      "execution_count": null,
      "outputs": [
        {
          "output_type": "execute_result",
          "data": {
            "text/plain": [
              "{'Dallas': 'DA',\n",
              " 'Los Angeles': 'LA',\n",
              " 'San Diego': 'SD',\n",
              " 'Austin': 'AU',\n",
              " 'New York City': 'NYC',\n",
              " 'Washington D.C.': 'WDC',\n",
              " 'Mountain View': 'MV',\n",
              " 'Boston': 'BO'}"
            ]
          },
          "metadata": {},
          "execution_count": 192
        }
      ]
    },
    {
      "cell_type": "code",
      "source": [
        "my_collection = \"Dallas Los Angeles San Diego Austin New York City Washington D.C. Mountain View Boston\".split(\" \")\n",
        "    \n",
        "words = sc.parallelize(my_collection, 2)\n",
        "words.map(lambda x: (x,cityBroadcasted.value.get(x,0))).collect()"
      ],
      "metadata": {
        "colab": {
          "base_uri": "https://localhost:8080/"
        },
        "id": "NfZVtHVolJYO",
        "outputId": "8bde5980-f75e-4bd9-cd9f-49428b9a9317"
      },
      "execution_count": null,
      "outputs": [
        {
          "output_type": "execute_result",
          "data": {
            "text/plain": [
              "[('Dallas', 'DA'),\n",
              " ('Los', 0),\n",
              " ('Angeles', 0),\n",
              " ('San', 0),\n",
              " ('Diego', 0),\n",
              " ('Austin', 'AU'),\n",
              " ('New', 0),\n",
              " ('York', 0),\n",
              " ('City', 0),\n",
              " ('Washington', 0),\n",
              " ('D.C.', 0),\n",
              " ('Mountain', 0),\n",
              " ('View', 0),\n",
              " ('Boston', 'BO')]"
            ]
          },
          "metadata": {},
          "execution_count": 193
        }
      ]
    },
    {
      "cell_type": "code",
      "source": [],
      "metadata": {
        "id": "H3fecaVW61rv"
      },
      "execution_count": null,
      "outputs": []
    }
  ]
}
